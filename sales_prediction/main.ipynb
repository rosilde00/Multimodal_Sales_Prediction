{
 "cells": [
  {
   "cell_type": "code",
   "execution_count": 1,
   "metadata": {},
   "outputs": [
    {
     "name": "stderr",
     "output_type": "stream",
     "text": [
      "c:\\Users\\GRVRLD00P\\AppData\\Local\\Programs\\Python\\Python312\\Lib\\site-packages\\tqdm\\auto.py:21: TqdmWarning: IProgress not found. Please update jupyter and ipywidgets. See https://ipywidgets.readthedocs.io/en/stable/user_install.html\n",
      "  from .autonotebook import tqdm as notebook_tqdm\n"
     ]
    },
    {
     "name": "stdout",
     "output_type": "stream",
     "text": [
      "Sto usando cuda\n"
     ]
    },
    {
     "name": "stderr",
     "output_type": "stream",
     "text": [
      "c:\\Users\\GRVRLD00P\\AppData\\Local\\Programs\\Python\\Python312\\Lib\\site-packages\\torchvision\\models\\_utils.py:135: UserWarning: Using 'weights' as positional parameter(s) is deprecated since 0.13 and may be removed in the future. Please use keyword parameter(s) instead.\n",
      "  warnings.warn(\n"
     ]
    },
    {
     "name": "stdout",
     "output_type": "stream",
     "text": [
      "Epoch 1\n",
      "-------------------------------\n"
     ]
    },
    {
     "name": "stderr",
     "output_type": "stream",
     "text": [
      "c:\\Users\\GRVRLD00P\\AppData\\Local\\Programs\\Python\\Python312\\Lib\\site-packages\\torch\\nn\\functional.py:5560: UserWarning: 1Torch was not compiled with flash attention. (Triggered internally at C:\\actions-runner\\_work\\pytorch\\pytorch\\builder\\windows\\pytorch\\aten\\src\\ATen\\native\\transformers\\cuda\\sdp_utils.cpp:555.)\n",
      "  attn_output = scaled_dot_product_attention(q, k, v, attn_mask, dropout_p, is_causal)\n"
     ]
    },
    {
     "name": "stdout",
     "output_type": "stream",
     "text": [
      "MSE: 3.500427  [   64/139122]\n",
      "MSE: 0.737850  [12864/139122]\n",
      "MSE: 0.241142  [25664/139122]\n",
      "MSE: 0.256034  [38464/139122]\n",
      "MSE: 0.446956  [51264/139122]\n",
      "MSE: 0.086768  [64064/139122]\n",
      "MSE: 0.062537  [76864/139122]\n",
      "MSE: 0.053519  [89664/139122]\n",
      "MSE: 0.001584  [102464/139122]\n",
      "MSE: 0.066524  [115264/139122]\n",
      "MSE: 0.013864  [128064/139122]\n",
      "MSE: 0.035126  [140864/139122]\n",
      "MSE: 0.013647  [153664/139122]\n",
      "MSE: 0.039983  [166464/139122]\n",
      "MSE: 0.121078  [179264/139122]\n",
      "MSE: 0.006839  [192064/139122]\n",
      "MSE: 0.094012  [204864/139122]\n",
      "MSE: 0.427634  [217664/139122]\n",
      "MSE: 0.000443  [230464/139122]\n",
      "MSE: 0.052537  [243264/139122]\n",
      "MSE: 0.017188  [256064/139122]\n",
      "MSE: 0.039875  [268864/139122]\n"
     ]
    },
    {
     "ename": "KeyboardInterrupt",
     "evalue": "",
     "output_type": "error",
     "traceback": [
      "\u001b[1;31m---------------------------------------------------------------------------\u001b[0m",
      "\u001b[1;31mKeyboardInterrupt\u001b[0m                         Traceback (most recent call last)",
      "Cell \u001b[1;32mIn[1], line 35\u001b[0m\n\u001b[0;32m     33\u001b[0m \u001b[38;5;28mprint\u001b[39m(\u001b[38;5;124mf\u001b[39m\u001b[38;5;124m\"\u001b[39m\u001b[38;5;124mEpoch \u001b[39m\u001b[38;5;132;01m{\u001b[39;00mt\u001b[38;5;241m+\u001b[39m\u001b[38;5;241m1\u001b[39m\u001b[38;5;132;01m}\u001b[39;00m\u001b[38;5;130;01m\\n\u001b[39;00m\u001b[38;5;124m-------------------------------\u001b[39m\u001b[38;5;124m\"\u001b[39m)\n\u001b[0;32m     34\u001b[0m sp\u001b[38;5;241m.\u001b[39mtrain_loop(train, modello, criterion, optimizer, batch_size, device)\n\u001b[1;32m---> 35\u001b[0m mse, mae, r2 \u001b[38;5;241m=\u001b[39m \u001b[43msp\u001b[49m\u001b[38;5;241;43m.\u001b[39;49m\u001b[43mvalidation_loop\u001b[49m\u001b[43m(\u001b[49m\u001b[43mval\u001b[49m\u001b[43m,\u001b[49m\u001b[43m \u001b[49m\u001b[43mmodello\u001b[49m\u001b[43m,\u001b[49m\u001b[43m \u001b[49m\u001b[43mcriterion\u001b[49m\u001b[43m,\u001b[49m\u001b[43m \u001b[49m\u001b[43mdevice\u001b[49m\u001b[43m)\u001b[49m\n\u001b[0;32m     36\u001b[0m early_stp \u001b[38;5;241m=\u001b[39m early_stop(mse)\n\u001b[0;32m     37\u001b[0m \u001b[38;5;28;01mif\u001b[39;00m early_stp:\n",
      "File \u001b[1;32mc:\\Users\\GRVRLD00P\\Documents\\Progetto ORS\\Progetto ORS\\ProgettoORS\\sales_prediction\\sales_prediction.py:131\u001b[0m, in \u001b[0;36mvalidation_loop\u001b[1;34m(dataloader, model, loss_fn, device)\u001b[0m\n\u001b[0;32m    128\u001b[0m desc_tensor \u001b[38;5;241m=\u001b[39m desc_tensor\u001b[38;5;241m.\u001b[39mto(device)\n\u001b[0;32m    130\u001b[0m pred \u001b[38;5;241m=\u001b[39m model(img, tab, desc_tensor)\n\u001b[1;32m--> 131\u001b[0m avg_mse \u001b[38;5;241m+\u001b[39m\u001b[38;5;241m=\u001b[39m \u001b[43mloss_fn\u001b[49m\u001b[43m(\u001b[49m\u001b[43mpred\u001b[49m\u001b[38;5;241;43m.\u001b[39;49m\u001b[43msqueeze\u001b[49m\u001b[43m(\u001b[49m\u001b[43m)\u001b[49m\u001b[43m,\u001b[49m\u001b[43m \u001b[49m\u001b[43my\u001b[49m\u001b[38;5;241;43m.\u001b[39;49m\u001b[43mfloat\u001b[49m\u001b[43m(\u001b[49m\u001b[43m)\u001b[49m\u001b[43m)\u001b[49m\u001b[38;5;241;43m.\u001b[39;49m\u001b[43mitem\u001b[49m\u001b[43m(\u001b[49m\u001b[43m)\u001b[49m\n\u001b[0;32m    132\u001b[0m avg_mae \u001b[38;5;241m+\u001b[39m\u001b[38;5;241m=\u001b[39m mean_absolute_error(y\u001b[38;5;241m.\u001b[39mcpu()\u001b[38;5;241m.\u001b[39mdetach()\u001b[38;5;241m.\u001b[39mnumpy(), pred\u001b[38;5;241m.\u001b[39mcpu()\u001b[38;5;241m.\u001b[39mdetach()\u001b[38;5;241m.\u001b[39mnumpy())\n\u001b[0;32m    133\u001b[0m avg_r2 \u001b[38;5;241m+\u001b[39m\u001b[38;5;241m=\u001b[39m r2_score(y\u001b[38;5;241m.\u001b[39mcpu()\u001b[38;5;241m.\u001b[39mdetach()\u001b[38;5;241m.\u001b[39mnumpy(), pred\u001b[38;5;241m.\u001b[39mcpu()\u001b[38;5;241m.\u001b[39mdetach()\u001b[38;5;241m.\u001b[39mnumpy())\n",
      "\u001b[1;31mKeyboardInterrupt\u001b[0m: "
     ]
    }
   ],
   "source": [
    "from preproc_tabular import get_tabular\n",
    "from dataset_sales import getDataset\n",
    "import sales_prediction as sp\n",
    "from torch.optim.adamw import AdamW\n",
    "from torch import nn\n",
    "import torch\n",
    "import os\n",
    "\n",
    "img_path = 'C:\\\\Users\\\\GRVRLD00P\\\\Documents\\\\Progetto ORS\\\\Dati\\\\ResizedImages\\\\'\n",
    "tab_path = 'C:\\\\Users\\\\GRVRLD00P\\\\Documents\\\\Progetto ORS\\\\Dati\\\\sales_anagrafica_final.csv'\n",
    "aggregated_path = 'C:\\\\Users\\\\GRVRLD00P\\\\Documents\\\\Progetto ORS\\\\Dati\\\\aggregated_sales_season.csv'\n",
    "\n",
    "device = (\n",
    "    \"cuda\"\n",
    "    if torch.cuda.is_available()\n",
    "    else \"mps\"\n",
    "    if torch.backends.mps.is_available()\n",
    "    else \"cpu\"\n",
    ")\n",
    "print(f\"Sto usando {device}\")\n",
    "modello = sp.create_model(0).to(device)\n",
    "\n",
    "batch_size = 128\n",
    "epochs = 10\n",
    "criterion = nn.MSELoss()\n",
    "optimizer = AdamW(modello.parameters(), lr=1e-2) \n",
    "early_stop = sp.EarlyStopping(2, 0.01)\n",
    "\n",
    "data, references, descriptions = get_tabular(tab_path)\n",
    "train, val = getDataset(references, data, descriptions, img_path, batch_size)\n",
    "\n",
    "for t in range(epochs):\n",
    "    print(f\"Epoch {t+1}\\n-------------------------------\")\n",
    "    sp.train_loop(train, modello, criterion, optimizer, batch_size, device)\n",
    "    mse, mae, r2 = sp.validation_loop(val, modello, criterion, device)\n",
    "    early_stp = early_stop(mse)\n",
    "    if early_stp:\n",
    "        print('Early Stop attivato.')\n",
    "        break\n",
    "    \n",
    "print(\"Done!\")\n",
    "\n",
    "os.makedirs('C:\\\\Users\\\\GRVRLD00P\\\\Documents\\\\Progetto ORS\\\\Progetto ORS\\\\ProgettoORS\\\\results\\\\noagg_1')\n",
    "with open('C:\\\\Users\\\\GRVRLD00P\\\\Documents\\\\Progetto ORS\\\\Progetto ORS\\\\ProgettoORS\\\\results\\\\noagg_1\\\\descrizione.txt', 'w') as file:\n",
    "    file.write(\"Addestramento con dati non aggregati, adamw, batch 128, lr 1e-2, early stopping con 2 epoche e delta 0.01, dropout 0.5\" + '\\n\\n')\n",
    "    file.write(f\"Metriche alla fine:\\nMSE: {mse}\\nMAE: {mae}\\nR2: {r2}\")\n",
    "torch.save(modello, 'C:\\\\Users\\\\GRVRLD00P\\\\Documents\\\\Progetto ORS\\\\Progetto ORS\\\\ProgettoORS\\\\results\\\\noagg_1\\\\weights.pth')"
   ]
  }
 ],
 "metadata": {
  "kernelspec": {
   "display_name": "Python 3",
   "language": "python",
   "name": "python3"
  },
  "language_info": {
   "codemirror_mode": {
    "name": "ipython",
    "version": 3
   },
   "file_extension": ".py",
   "mimetype": "text/x-python",
   "name": "python",
   "nbconvert_exporter": "python",
   "pygments_lexer": "ipython3",
   "version": "3.12.4"
  }
 },
 "nbformat": 4,
 "nbformat_minor": 2
}
