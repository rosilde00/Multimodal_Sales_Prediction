{
 "cells": [
  {
   "cell_type": "code",
   "execution_count": 4,
   "metadata": {},
   "outputs": [
    {
     "name": "stdout",
     "output_type": "stream",
     "text": [
      "Sto usando cuda\n"
     ]
    },
    {
     "name": "stderr",
     "output_type": "stream",
     "text": [
      "C:\\Users\\GRVRLD00P\\AppData\\Local\\Temp\\ipykernel_1508\\2784367408.py:19: FutureWarning: You are using `torch.load` with `weights_only=False` (the current default value), which uses the default pickle module implicitly. It is possible to construct malicious pickle data which will execute arbitrary code during unpickling (See https://github.com/pytorch/pytorch/blob/main/SECURITY.md#untrusted-models for more details). In a future release, the default value for `weights_only` will be flipped to `True`. This limits the functions that could be executed during unpickling. Arbitrary objects will no longer be allowed to be loaded via this mode unless they are explicitly allowlisted by the user via `torch.serialization.add_safe_globals`. We recommend you start setting `weights_only=True` for any use case where you don't have full control of the loaded file. Please open an issue on GitHub for any issues related to this experimental feature.\n",
      "  modello = torch.load('C:\\\\Users\\\\GRVRLD00P\\\\Documents\\\\Progetto ORS\\\\Progetto ORS\\\\ProgettoORS\\\\results\\\\agg_2\\\\weights.pth')\n"
     ]
    },
    {
     "name": "stdout",
     "output_type": "stream",
     "text": [
      "Test Error: \n",
      " Avg MSE: 0.186836\n",
      "\n"
     ]
    }
   ],
   "source": [
    "from preproc_tabular import get_tabular\n",
    "from dataset_sales import getDataset\n",
    "import sales_prediction as sp\n",
    "from torch.optim.adamw import AdamW\n",
    "from torch import nn\n",
    "import torch\n",
    "import os\n",
    "\n",
    "img_path = 'C:\\\\Users\\\\GRVRLD00P\\\\Documents\\\\Progetto ORS\\\\Dati\\\\ResizedImages\\\\'\n",
    "tab_path = 'C:\\\\Users\\\\GRVRLD00P\\\\Documents\\\\Progetto ORS\\\\Dati\\\\sales_anagrafica_final.csv'\n",
    "aggregated_path = 'C:\\\\Users\\\\GRVRLD00P\\\\Documents\\\\Progetto ORS\\\\Dati\\\\aggregated_sales_season.csv'\n",
    "aggregated_month_path = 'C:\\\\Users\\\\GRVRLD00P\\\\Documents\\\\Progetto ORS\\\\Dati\\\\aggregated_sales_month.csv'\n",
    "\n",
    "device = (\n",
    "    \"cuda\"\n",
    "    if torch.cuda.is_available()\n",
    "    else \"mps\"\n",
    "    if torch.backends.mps.is_available()\n",
    "    else \"cpu\"\n",
    ")\n",
    "print(f\"Sto usando {device}\")\n",
    "modello = sp.create_model(0).to(device)\n",
    "\n",
    "batch_size = 128\n",
    "epochs = 3\n",
    "criterion = nn.MSELoss()\n",
    "optimizer = AdamW(modello.parameters(), lr=1e-2) \n",
    "early_stop = sp.EarlyStopping(2, 0.1)\n",
    "\n",
    "data, references, descriptions = get_tabular(aggregated_month_path)\n",
    "train, val = getDataset(references, data, descriptions, img_path, batch_size)\n",
    "\n",
    "for t in range(epochs):\n",
    "    print(f\"Epoch {t+1}\\n-------------------------------\")\n",
    "    sp.train_loop(train, modello, criterion, optimizer, batch_size, device)\n",
    "    mse, mae, r2 = sp.validation_loop(val, modello, criterion, device)\n",
    "    early_stp = early_stop(mse)\n",
    "    if early_stp:\n",
    "        print('Early Stop attivato.')\n",
    "        break\n",
    "    \n",
    "print(\"Done!\")\n",
    "\n",
    "os.makedirs('C:\\\\Users\\\\GRVRLD00P\\\\Documents\\\\Progetto ORS\\\\results\\\\agg_m_1')\n",
    "with open('C:\\\\Users\\\\GRVRLD00P\\\\Documents\\\\Progetto ORS\\\\results\\\\agg_m_1\\\\descrizione.txt', 'w') as file:\n",
    "    file.write(\"Addestramento con dati aggregati mensilmente, adamw, batch 128, 3 epoche, lr 1e-2, early stopping con 2 epoche e delta 0.01, dropout 0.5.\" + '\\n\\n')\n",
    "    file.write(f\"Metriche alla fine:\\nMSE: {mse}\\nMAE: {mae}\\nR2: {r2}\")\n",
    "model_sc = torch.jit.script(modello)\n",
    "model_sc.save('C:\\\\Users\\\\GRVRLD00P\\\\Documents\\\\Progetto ORS\\\\results\\\\agg_m_1\\\\weights.pt')"
   ]
  }
 ],
 "metadata": {
  "kernelspec": {
   "display_name": "Python 3",
   "language": "python",
   "name": "python3"
  },
  "language_info": {
   "codemirror_mode": {
    "name": "ipython",
    "version": 3
   },
   "file_extension": ".py",
   "mimetype": "text/x-python",
   "name": "python",
   "nbconvert_exporter": "python",
   "pygments_lexer": "ipython3",
   "version": "3.12.4"
  }
 },
 "nbformat": 4,
 "nbformat_minor": 2
}
