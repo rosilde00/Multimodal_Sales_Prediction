{
 "cells": [
  {
   "cell_type": "code",
   "execution_count": 1,
   "metadata": {},
   "outputs": [
    {
     "name": "stderr",
     "output_type": "stream",
     "text": [
      "c:\\Users\\GRVRLD00P\\AppData\\Local\\Programs\\Python\\Python312\\Lib\\site-packages\\tqdm\\auto.py:21: TqdmWarning: IProgress not found. Please update jupyter and ipywidgets. See https://ipywidgets.readthedocs.io/en/stable/user_install.html\n",
      "  from .autonotebook import tqdm as notebook_tqdm\n"
     ]
    },
    {
     "name": "stdout",
     "output_type": "stream",
     "text": [
      "Sto usando cuda\n"
     ]
    },
    {
     "name": "stderr",
     "output_type": "stream",
     "text": [
      "c:\\Users\\GRVRLD00P\\AppData\\Local\\Programs\\Python\\Python312\\Lib\\site-packages\\torchvision\\models\\_utils.py:135: UserWarning: Using 'weights' as positional parameter(s) is deprecated since 0.13 and may be removed in the future. Please use keyword parameter(s) instead.\n",
      "  warnings.warn(\n"
     ]
    },
    {
     "name": "stdout",
     "output_type": "stream",
     "text": [
      "Epoch 1\n",
      "-------------------------------\n"
     ]
    },
    {
     "name": "stderr",
     "output_type": "stream",
     "text": [
      "c:\\Users\\GRVRLD00P\\AppData\\Local\\Programs\\Python\\Python312\\Lib\\site-packages\\torch\\nn\\functional.py:5560: UserWarning: 1Torch was not compiled with flash attention. (Triggered internally at C:\\actions-runner\\_work\\pytorch\\pytorch\\builder\\windows\\pytorch\\aten\\src\\ATen\\native\\transformers\\cuda\\sdp_utils.cpp:555.)\n",
      "  attn_output = scaled_dot_product_attention(q, k, v, attn_mask, dropout_p, is_causal)\n"
     ]
    },
    {
     "name": "stdout",
     "output_type": "stream",
     "text": [
      "MSE: 12.167908  [  128/58058]\n",
      "MSE: 6.410360  [12928/58058]\n",
      "MSE: 1.895538  [25728/58058]\n",
      "MSE: 0.875401  [38528/58058]\n",
      "MSE: 0.390725  [51328/58058]\n",
      "Validation Error: \n",
      " Avg MSE: 0.178802 \n",
      " Avg MAE: 0.307075 \n",
      " Avg R2: 0.9755186047309484\n",
      "\n",
      "False\n",
      "Epoch 2\n",
      "-------------------------------\n",
      "MSE: 0.180017  [  128/58058]\n",
      "MSE: 0.278931  [12928/58058]\n",
      "MSE: 0.139544  [25728/58058]\n",
      "MSE: 0.137787  [38528/58058]\n",
      "MSE: 0.049659  [51328/58058]\n",
      "Validation Error: \n",
      " Avg MSE: 0.056505 \n",
      " Avg MAE: 0.154726 \n",
      " Avg R2: 0.9919900365364858\n",
      "\n",
      "False\n",
      "Epoch 3\n",
      "-------------------------------\n",
      "MSE: 0.175841  [  128/58058]\n",
      "MSE: 0.151349  [12928/58058]\n",
      "MSE: 0.230308  [25728/58058]\n",
      "MSE: 0.117794  [38528/58058]\n",
      "MSE: 0.033824  [51328/58058]\n",
      "Validation Error: \n",
      " Avg MSE: 0.041186 \n",
      " Avg MAE: 0.087096 \n",
      " Avg R2: 0.9941539706327976\n",
      "\n",
      "False\n",
      "Done!\n"
     ]
    }
   ],
   "source": [
    "from preproc_tabular import get_tabular\n",
    "from dataset_sales import getDataset\n",
    "import sales_prediction as sp\n",
    "from torch.optim.adamw import AdamW\n",
    "from torch import nn\n",
    "import torch\n",
    "import os\n",
    "\n",
    "img_path = 'C:\\\\Users\\\\GRVRLD00P\\\\Documents\\\\Progetto ORS\\\\Dati\\\\ResizedImages\\\\'\n",
    "tab_path = 'C:\\\\Users\\\\GRVRLD00P\\\\Documents\\\\Progetto ORS\\\\Dati\\\\sales_anagrafica_final.csv'\n",
    "aggregated_path = 'C:\\\\Users\\\\GRVRLD00P\\\\Documents\\\\Progetto ORS\\\\Dati\\\\aggregated_sales_season.csv'\n",
    "aggregated_month_path = 'C:\\\\Users\\\\GRVRLD00P\\\\Documents\\\\Progetto ORS\\\\Dati\\\\aggregated_sales_month.csv'\n",
    "\n",
    "device = (\n",
    "    \"cuda\"\n",
    "    if torch.cuda.is_available()\n",
    "    else \"mps\"\n",
    "    if torch.backends.mps.is_available()\n",
    "    else \"cpu\"\n",
    ")\n",
    "print(f\"Sto usando {device}\")\n",
    "modello = sp.create_model(0).to(device)\n",
    "\n",
    "batch_size = 128\n",
    "epochs = 3\n",
    "criterion = nn.MSELoss()\n",
    "optimizer = AdamW(modello.parameters(), lr=1e-2) \n",
    "early_stop = sp.EarlyStopping(1, 0.01)\n",
    "\n",
    "data, references, descriptions = get_tabular(aggregated_month_path)\n",
    "train, val = getDataset(references, data, descriptions, img_path, batch_size)\n",
    "\n",
    "mse_final, mae_final, r2_final = 0, 0, 0\n",
    "modello_final = 0\n",
    "for t in range(epochs):\n",
    "    print(f\"Epoch {t+1}\\n-------------------------------\")\n",
    "    sp.train_loop(train, modello, criterion, optimizer, batch_size, device)\n",
    "    mse, mae, r2 = sp.validation_loop(val, modello, criterion, device)\n",
    "    early_stp = early_stop(mse)\n",
    "    print(early_stp)\n",
    "    if early_stp:\n",
    "        print('Early Stop attivato.')\n",
    "        break\n",
    "    mse_final, mae_final, r2_final = mse, mae, r2\n",
    "    modello_final = modello\n",
    "    \n",
    "print(\"Done!\")\n",
    "\n",
    "os.makedirs('C:\\\\Users\\\\GRVRLD00P\\\\Documents\\\\Progetto ORS\\\\results\\\\agg_m_1')\n",
    "with open('C:\\\\Users\\\\GRVRLD00P\\\\Documents\\\\Progetto ORS\\\\results\\\\agg_m_1\\\\descrizione.txt', 'w') as file:\n",
    "    file.write(\"Addestramento con dati aggregati mensilmente, adamw, batch 128, 3 epoche, lr 1e-2, early stopping con 1 epoca e delta 0.01, dropout 0.5.\" + '\\n\\n')\n",
    "    file.write(f\"Metriche alla fine:\\nMSE: {mse_final}\\nMAE: {mae_final}\\nR2: {r2_final}\")\n",
    "model_sc = torch.jit.script(modello_final)\n",
    "model_sc.save('C:\\\\Users\\\\GRVRLD00P\\\\Documents\\\\Progetto ORS\\\\results\\\\agg_m_1\\\\weights.pt')"
   ]
  }
 ],
 "metadata": {
  "kernelspec": {
   "display_name": "Python 3",
   "language": "python",
   "name": "python3"
  },
  "language_info": {
   "codemirror_mode": {
    "name": "ipython",
    "version": 3
   },
   "file_extension": ".py",
   "mimetype": "text/x-python",
   "name": "python",
   "nbconvert_exporter": "python",
   "pygments_lexer": "ipython3",
   "version": "3.12.4"
  }
 },
 "nbformat": 4,
 "nbformat_minor": 2
}
