{
 "cells": [
  {
   "cell_type": "code",
   "execution_count": 1,
   "metadata": {},
   "outputs": [
    {
     "name": "stderr",
     "output_type": "stream",
     "text": [
      "d:\\Programmi\\Python3.12\\Lib\\site-packages\\tqdm\\auto.py:21: TqdmWarning: IProgress not found. Please update jupyter and ipywidgets. See https://ipywidgets.readthedocs.io/en/stable/user_install.html\n",
      "  from .autonotebook import tqdm as notebook_tqdm\n",
      "d:\\Programmi\\Python3.12\\Lib\\site-packages\\torchtext\\data\\__init__.py:4: UserWarning: \n",
      "/!\\ IMPORTANT WARNING ABOUT TORCHTEXT STATUS /!\\ \n",
      "Torchtext is deprecated and the last released version will be 0.18 (this one). You can silence this warning by calling the following at the beginnign of your scripts: `import torchtext; torchtext.disable_torchtext_deprecation_warning()`\n",
      "  warnings.warn(torchtext._TORCHTEXT_DEPRECATION_MSG)\n"
     ]
    },
    {
     "name": "stdout",
     "output_type": "stream",
     "text": [
      "{'input_ids': tensor([[  101,  4440,  8684, 10250,  4371, 15908,   102,     0,     0,     0,\n",
      "             0,     0,     0],\n",
      "        [  101, 12170, 23947, 10250,  4371,  3609,  3796,   102,     0,     0,\n",
      "             0,     0,     0],\n",
      "        [  101, 12170, 23947, 10250,  4371,  3609,  3796,   102,     0,     0,\n",
      "             0,     0,     0],\n",
      "        [  101, 12170, 23947, 10250,  4371,  3609,  3796,   102,     0,     0,\n",
      "             0,     0,     0],\n",
      "        [  101, 12170, 23947, 10250,  4371,  1037, 19838,  5369,   102,     0,\n",
      "             0,     0,     0],\n",
      "        [  101, 12170, 23947, 10250,  4371,  1037, 19838,  5369,   102,     0,\n",
      "             0,     0,     0],\n",
      "        [  101, 12170, 23947, 10250,  4371,  1037, 19838,  5369,   102,     0,\n",
      "             0,     0,     0],\n",
      "        [  101, 12170, 23947, 10250,  4371,  1039,  1013, 20010, 15900,  3669,\n",
      "         19857,  2080,   102],\n",
      "        [  101, 12170, 23947, 10250,  4371,  1039,  1013, 20010, 15900,  3669,\n",
      "         19857,  2080,   102],\n",
      "        [  101, 12170, 23947, 10250,  4371,  1039,  1013, 20010, 15900,  3669,\n",
      "         19857,  2080,   102]]), 'attention_mask': tensor([[1, 1, 1, 1, 1, 1, 1, 0, 0, 0, 0, 0, 0],\n",
      "        [1, 1, 1, 1, 1, 1, 1, 1, 0, 0, 0, 0, 0],\n",
      "        [1, 1, 1, 1, 1, 1, 1, 1, 0, 0, 0, 0, 0],\n",
      "        [1, 1, 1, 1, 1, 1, 1, 1, 0, 0, 0, 0, 0],\n",
      "        [1, 1, 1, 1, 1, 1, 1, 1, 1, 0, 0, 0, 0],\n",
      "        [1, 1, 1, 1, 1, 1, 1, 1, 1, 0, 0, 0, 0],\n",
      "        [1, 1, 1, 1, 1, 1, 1, 1, 1, 0, 0, 0, 0],\n",
      "        [1, 1, 1, 1, 1, 1, 1, 1, 1, 1, 1, 1, 1],\n",
      "        [1, 1, 1, 1, 1, 1, 1, 1, 1, 1, 1, 1, 1],\n",
      "        [1, 1, 1, 1, 1, 1, 1, 1, 1, 1, 1, 1, 1]])}\n"
     ]
    }
   ],
   "source": [
    "from custom_dataset import getDataset\n",
    "import neural_net\n",
    "import torch\n",
    "from torch import nn\n",
    "from transformers import AutoTokenizer, AutoModel\n",
    "import glob\n",
    "import pandas as pd\n",
    "import numpy as np\n",
    "import preproc_tabular\n",
    "\n",
    "target = [1,2,1,4,2,4,3,5,1,0] #TARGET FAKE\n",
    "img_path = 'D:\\\\ORS\\\\Data\\\\ResizedImages\\\\'\n",
    "tab_path = 'D:\\\\ORS\\\\Data\\\\prova.xlsx'\n",
    "\n",
    "data, descriptions, references = preproc_tabular.get_tabular(img_path, tab_path)\n",
    "print(descriptions)"
   ]
  }
 ],
 "metadata": {
  "kernelspec": {
   "display_name": "Python 3",
   "language": "python",
   "name": "python3"
  },
  "language_info": {
   "codemirror_mode": {
    "name": "ipython",
    "version": 3
   },
   "file_extension": ".py",
   "mimetype": "text/x-python",
   "name": "python",
   "nbconvert_exporter": "python",
   "pygments_lexer": "ipython3",
   "version": "3.12.3"
  }
 },
 "nbformat": 4,
 "nbformat_minor": 2
}
