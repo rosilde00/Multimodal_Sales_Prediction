{
 "cells": [
  {
   "cell_type": "code",
   "execution_count": 4,
   "metadata": {},
   "outputs": [],
   "source": [
    "import duckdb\n",
    "import pandas as pd\n",
    "\n",
    "aggregated_path = 'C:\\\\ORS\\\\Data\\\\aggregated_sales_final.xlsx'\n",
    "data_path = 'C:\\\\ORS\\\\Data\\\\sales_anagrafica.xlsx'\n",
    "dest_path = 'C:\\\\ORS\\\\Data\\\\sales_anagrafica_final.csv'\n",
    "\n",
    "data = pd.read_excel(data_path)\n",
    "aggregated = pd.read_excel(aggregated_path)\n",
    "aggregated = aggregated.drop(columns=['qty'], axis='columns')\n",
    "\n",
    "res = duckdb.query(\"SELECT * FROM data JOIN aggregated ON aggregated.prodcode LIKE REPLACE(data.idProdotto, '*', '%')\").df()\n",
    "res = res.drop(columns=['IdProdotto'], axis='columns')\n",
    "res.to_csv(dest_path, index=False)"
   ]
  }
 ],
 "metadata": {
  "kernelspec": {
   "display_name": "Python 3",
   "language": "python",
   "name": "python3"
  },
  "language_info": {
   "codemirror_mode": {
    "name": "ipython",
    "version": 3
   },
   "file_extension": ".py",
   "mimetype": "text/x-python",
   "name": "python",
   "nbconvert_exporter": "python",
   "pygments_lexer": "ipython3",
   "version": "3.12.4"
  }
 },
 "nbformat": 4,
 "nbformat_minor": 2
}
