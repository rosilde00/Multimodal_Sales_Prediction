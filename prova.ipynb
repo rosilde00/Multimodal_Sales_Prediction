{
 "cells": [
  {
   "cell_type": "code",
   "execution_count": 10,
   "metadata": {},
   "outputs": [
    {
     "name": "stdout",
     "output_type": "stream",
     "text": [
      "['D:\\\\ORS\\\\Data\\\\Images\\\\222_969_61434_00_10A_1.jpg', 'D:\\\\ORS\\\\Data\\\\Images\\\\222_969_64273_00_37C_1.jpg', 'D:\\\\ORS\\\\Data\\\\Images\\\\222_969_64273_00_37C_2.jpg', 'D:\\\\ORS\\\\Data\\\\Images\\\\222_969_64273_00_37C_5.jpg', 'D:\\\\ORS\\\\Data\\\\Images\\\\222_969_64273_01_52I_1.jpg', 'D:\\\\ORS\\\\Data\\\\Images\\\\222_969_64273_01_52I_2.jpg', 'D:\\\\ORS\\\\Data\\\\Images\\\\222_969_64273_01_52I_5.jpg', '222_966_64273_01_52I_*.jpg']\n",
      "['uzae', 'molto', 'molto', 'molto', 'bella', 'bella', 'bella']\n",
      "   uno\n",
      "0    1\n",
      "1    2\n",
      "2    2\n",
      "3    2\n",
      "4    3\n",
      "5    3\n",
      "6    3\n"
     ]
    }
   ],
   "source": [
    "import pandas as pd\n",
    "import numpy as np\n",
    "import glob\n",
    "import torch\n",
    "import torch.nn as nn\n",
    "from torchtext.data import get_tokenizer\n",
    "\n",
    "def duplicate_row(img_dir, data, descriptions, references):\n",
    "    new_ref = list(references)\n",
    "    for ref in references:\n",
    "        images = glob.glob(img_dir + ref)\n",
    "        if len(images) != 0:\n",
    "            idx = new_ref.index(ref)\n",
    "            new_ref.remove(ref)\n",
    "            new_ref = new_ref[:idx] + images + new_ref[idx:]\n",
    "\n",
    "            times = len(images)-1\n",
    "            if times != 0:\n",
    "                descriptions = descriptions[:idx] + [descriptions[idx]]*times + descriptions[idx:]\n",
    "                new_data = data.values\n",
    "                new_data = np.insert(data.values, idx, [new_data[idx]]*times, axis=0)\n",
    "                new_data = pd.DataFrame(new_data)\n",
    "                new_data.columns = data.columns\n",
    "                data = new_data\n",
    "            \n",
    "    return new_data, descriptions, new_ref\n",
    "\n",
    "img_dir = 'D:\\\\ORS\\\\Data\\\\Images\\\\'\n",
    "data = pd.DataFrame([1,2,3], columns=['uno'])\n",
    "desc = ['uzae', 'molto', 'bella']\n",
    "references = ['222_969_61434_00_10A_*.jpg', '222_969_64273_00_37C_*.jpg', '222_969_64273_01_52I_*.jpg', '222_966_64273_01_52I_*.jpg']\n",
    "data, desc, ref = duplicate_row(img_dir, data, desc, references)\n",
    "print(ref)\n",
    "print(desc)\n",
    "print(data)"
   ]
  }
 ],
 "metadata": {
  "kernelspec": {
   "display_name": "Python 3",
   "language": "python",
   "name": "python3"
  },
  "language_info": {
   "codemirror_mode": {
    "name": "ipython",
    "version": 3
   },
   "file_extension": ".py",
   "mimetype": "text/x-python",
   "name": "python",
   "nbconvert_exporter": "python",
   "pygments_lexer": "ipython3",
   "version": "3.12.3"
  }
 },
 "nbformat": 4,
 "nbformat_minor": 2
}
