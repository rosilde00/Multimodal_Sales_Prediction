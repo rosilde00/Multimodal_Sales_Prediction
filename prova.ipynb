{
 "cells": [
  {
   "cell_type": "code",
   "execution_count": 31,
   "metadata": {},
   "outputs": [
    {
     "name": "stdout",
     "output_type": "stream",
     "text": [
      "tensor([[ 1.4096, -0.2335, -0.7297,  0.5338, -0.7487,  0.1278],\n",
      "        [ 0.2820,  1.2014, -0.3351, -0.2154,  1.1311, -0.8915],\n",
      "        [-0.9191, -1.5257, -0.4599, -0.2575, -0.9993,  1.4944],\n",
      "        [ 1.3520,  1.1680, -0.9039,  0.7668,  0.8618, -0.2208],\n",
      "        [-0.5046,  0.2048, -2.7916,  1.3077,  0.0808,  0.4532],\n",
      "        [-1.2084,  0.6395,  2.1390,  0.1697, -0.1045, -0.4465],\n",
      "        [ 0.7230, -0.9790,  0.5149,  0.7715, -1.7482,  0.0856],\n",
      "        [ 0.4746, -1.2386, -0.2177,  0.3922,  0.2295, -0.7849],\n",
      "        [-1.9307,  0.0186, -0.6136, -0.7691,  1.6851,  1.1596],\n",
      "        [-0.3296, -0.4843,  0.7865, -1.5809,  1.2562,  0.8473],\n",
      "        [ 0.1601,  2.1778,  0.3906, -0.0876, -0.1721,  0.0764],\n",
      "        [ 1.3520,  1.1680, -0.9039,  0.7668,  0.8618, -0.2208],\n",
      "        [-2.1443, -0.7645,  1.6378, -0.5485,  0.0134, -0.3271],\n",
      "        [ 0.7230, -0.9790,  0.5149,  0.7715, -1.7482,  0.0856],\n",
      "        [-0.1784,  0.1289, -1.0052, -0.0136,  0.6477,  2.1769],\n",
      "        [ 1.3777,  0.7384, -1.0319,  0.1778,  0.2421, -1.3933],\n",
      "        [ 0.2820,  1.2014, -0.3351, -0.2154,  1.1311, -0.8915],\n",
      "        [ 0.1601,  2.1778,  0.3906, -0.0876, -0.1721,  0.0764]],\n",
      "       grad_fn=<CatBackward0>)\n"
     ]
    }
   ],
   "source": [
    "from torchtext.data import get_tokenizer\n",
    "import torch\n",
    "import torch.nn as nn\n",
    "import torch.nn.functional as F\n",
    "import torch.optim as optim\n",
    "import pandas as pd\n",
    "\n",
    "\n",
    "def word_embedding(descriptions):\n",
    "    print(descriptions)\n",
    "    return 1\n",
    "    \n",
    "#data = pd.read_excel('D:\\\\ORS\\\\Data\\\\Mauli_articoli_222_231_232.xlsx')\n",
    "#description_embedding = word_embedding(data['DescrizioneArticolo'])\n",
    "\n",
    "sentence = \"Ciao uzae, sei molto bella e ti voglio bene. Sei carina e simpatica cara uzae.\"\n",
    "tokenizer = get_tokenizer('basic_english')\n",
    "tokens = tokenizer(sentence)\n",
    "tokens_set = set(tokens)\n",
    "dictionary = {word: i for i, word in enumerate(tokens_set)}\n",
    "\n",
    "embeds = nn.Embedding(len(dictionary), 6)  \n",
    "lookup_tensor = torch.tensor([dictionary[tokens[0]]], dtype=torch.long)\n",
    "desc_tensor = embeds(lookup_tensor)\n",
    "for i in range(1, len(tokens)):\n",
    "    lookup_tensor = torch.tensor([dictionary[tokens[i]]], dtype=torch.long)\n",
    "    embed = embeds(lookup_tensor)\n",
    "    desc_tensor = torch.cat((desc_tensor, embed), 0)\n",
    "\n",
    "print(desc_tensor)\n"
   ]
  }
 ],
 "metadata": {
  "kernelspec": {
   "display_name": "Python 3",
   "language": "python",
   "name": "python3"
  },
  "language_info": {
   "codemirror_mode": {
    "name": "ipython",
    "version": 3
   },
   "file_extension": ".py",
   "mimetype": "text/x-python",
   "name": "python",
   "nbconvert_exporter": "python",
   "pygments_lexer": "ipython3",
   "version": "3.12.3"
  }
 },
 "nbformat": 4,
 "nbformat_minor": 2
}
