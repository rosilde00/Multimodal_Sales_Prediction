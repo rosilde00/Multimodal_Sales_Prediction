{
 "cells": [
  {
   "cell_type": "code",
   "execution_count": 4,
   "metadata": {},
   "outputs": [
    {
     "name": "stderr",
     "output_type": "stream",
     "text": [
      "d:\\Programmi\\Python3.12\\Lib\\site-packages\\torchvision\\models\\_utils.py:135: UserWarning: Using 'weights' as positional parameter(s) is deprecated since 0.13 and may be removed in the future. Please use keyword parameter(s) instead.\n",
      "  warnings.warn(\n"
     ]
    },
    {
     "name": "stdout",
     "output_type": "stream",
     "text": [
      "Epoch 1\n",
      "-------------------------------\n",
      "torch.Size([1, 1])\n"
     ]
    },
    {
     "name": "stderr",
     "output_type": "stream",
     "text": [
      "d:\\Programmi\\Python3.12\\Lib\\site-packages\\torch\\nn\\modules\\loss.py:535: UserWarning: Using a target size (torch.Size([1, 1, 1])) that is different to the input size (torch.Size([1, 1])). This will likely lead to incorrect results due to broadcasting. Please ensure they have the same size.\n",
      "  return F.mse_loss(input, target, reduction=self.reduction)\n"
     ]
    },
    {
     "name": "stdout",
     "output_type": "stream",
     "text": [
      "loss: 13.852075\n",
      "torch.Size([1, 1])\n",
      "loss: 2.904386\n",
      "torch.Size([1, 1])\n",
      "loss: 0.087337\n",
      "torch.Size([1, 1])\n",
      "loss: 0.488185\n",
      "torch.Size([1, 1])\n",
      "loss: 2.910736\n",
      "torch.Size([1, 1])\n",
      "loss: 0.481954\n",
      "torch.Size([1, 1])\n",
      "torch.Size([1, 1])\n",
      "torch.Size([1, 1])\n",
      "Validation Error: \n",
      " Avg loss: 12.063018 \n",
      "\n",
      "Epoch 2\n",
      "-------------------------------\n",
      "torch.Size([1, 1])\n",
      "loss: 13.685500\n",
      "torch.Size([1, 1])\n",
      "loss: 2.833740\n",
      "torch.Size([1, 1])\n",
      "loss: 0.099919\n",
      "torch.Size([1, 1])\n",
      "loss: 0.457570\n",
      "torch.Size([1, 1])\n",
      "loss: 2.835397\n",
      "torch.Size([1, 1])\n",
      "loss: 0.453663\n",
      "torch.Size([1, 1])\n",
      "torch.Size([1, 1])\n",
      "torch.Size([1, 1])\n",
      "Validation Error: \n",
      " Avg loss: 11.941067 \n",
      "\n",
      "Done!\n"
     ]
    }
   ],
   "source": [
    "import preproc_tabular\n",
    "from custom_dataset import getDataset\n",
    "from torch import nn\n",
    "import torch\n",
    "import neural_net\n",
    "from torchvision.io import read_image\n",
    "from torch.utils.data import Dataset\n",
    "import torch\n",
    "from torch.utils.data import DataLoader\n",
    "from torch.utils.data import random_split\n",
    "from torchvision.transforms import v2 ###\n",
    "from torchvision.io import ImageReadMode\n",
    "from torchvision.models.vision_transformer import vit_b_16\n",
    "from torchvision.models.vision_transformer import ViT_B_16_Weights\n",
    "\n",
    "   \n",
    "target = [1,2,1,4,2,4,3,5,1,0] #TARGET FAKE\n",
    "img_path = 'D:\\\\ORS\\\\Data\\\\ResizedImages\\\\'\n",
    "tab_path = 'D:\\\\ORS\\\\Data\\\\prova.xlsx'\n",
    "\n",
    "data, references, descriptions = preproc_tabular.get_tabular('D:\\\\ORS\\\\Data\\\\prova.xlsx')\n",
    "newdata, newdescription, newreferences = preproc_tabular.duplicate_row(img_path, data, descriptions, references)\n",
    "train, val, test = getDataset(newreferences, newdata, newdescription, \"ciao\")\n",
    "\n",
    " \n",
    "modello = neural_net.create_model()\n",
    "\n",
    "learning_rate = 1e-3\n",
    "batch_size = 1\n",
    "epochs = 2\n",
    "loss_fn = nn.MSELoss()\n",
    "optimizer = torch.optim.SGD(modello.parameters(), lr=learning_rate) \n",
    "\n",
    "\n",
    "for t in range(epochs):\n",
    "    print(f\"Epoch {t+1}\\n-------------------------------\")\n",
    "    neural_net.train_loop(train, modello, loss_fn, optimizer, 1)\n",
    "    neural_net.validation_loop(val, modello, loss_fn)\n",
    "print(\"Done!\")\n",
    "\n"
   ]
  }
 ],
 "metadata": {
  "kernelspec": {
   "display_name": "Python 3",
   "language": "python",
   "name": "python3"
  },
  "language_info": {
   "codemirror_mode": {
    "name": "ipython",
    "version": 3
   },
   "file_extension": ".py",
   "mimetype": "text/x-python",
   "name": "python",
   "nbconvert_exporter": "python",
   "pygments_lexer": "ipython3",
   "version": "3.12.3"
  }
 },
 "nbformat": 4,
 "nbformat_minor": 2
}
