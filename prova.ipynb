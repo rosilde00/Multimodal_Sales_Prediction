{
 "cells": [
  {
   "cell_type": "code",
   "execution_count": 1,
   "metadata": {},
   "outputs": [
    {
     "name": "stderr",
     "output_type": "stream",
     "text": [
      "d:\\Programmi\\Python3.12\\Lib\\site-packages\\tqdm\\auto.py:21: TqdmWarning: IProgress not found. Please update jupyter and ipywidgets. See https://ipywidgets.readthedocs.io/en/stable/user_install.html\n",
      "  from .autonotebook import tqdm as notebook_tqdm\n",
      "d:\\Programmi\\Python3.12\\Lib\\site-packages\\torchvision\\models\\_utils.py:135: UserWarning: Using 'weights' as positional parameter(s) is deprecated since 0.13 and may be removed in the future. Please use keyword parameter(s) instead.\n",
      "  warnings.warn(\n"
     ]
    },
    {
     "name": "stdout",
     "output_type": "stream",
     "text": [
      "Epoch 1\n",
      "-------------------------------\n"
     ]
    },
    {
     "name": "stderr",
     "output_type": "stream",
     "text": [
      "d:\\Programmi\\Python3.12\\Lib\\site-packages\\torch\\nn\\modules\\loss.py:535: UserWarning: Using a target size (torch.Size([1])) that is different to the input size (torch.Size([])). This will likely lead to incorrect results due to broadcasting. Please ensure they have the same size.\n",
      "  return F.mse_loss(input, target, reduction=self.reduction)\n"
     ]
    },
    {
     "name": "stdout",
     "output_type": "stream",
     "text": [
      "loss: 0.771421\n",
      "loss: 0.770345\n",
      "loss: 0.016024\n",
      "loss: 3.509300\n",
      "loss: 7.962847\n",
      "loss: 23.658243\n",
      "Validation Error: \n",
      " Avg loss: 6.274778 \n",
      "\n",
      "Epoch 2\n",
      "-------------------------------\n",
      "loss: 0.723695\n",
      "loss: 0.717271\n",
      "loss: 0.024239\n",
      "loss: 3.414498\n",
      "loss: 7.835793\n",
      "loss: 23.372831\n",
      "Validation Error: \n",
      " Avg loss: 6.165808 \n",
      "\n",
      "Done!\n"
     ]
    }
   ],
   "source": [
    "from preproc_tabular import get_tabular\n",
    "from custom_dataset import getDataset\n",
    "import neural_net\n",
    "import torch\n",
    "from torch import nn\n",
    "\n",
    "\n",
    "IMAGENET_DEFAULT_MEAN = (0.485, 0.456, 0.406) #presi da timm\n",
    "IMAGENET_DEFAULT_STD = (0.229, 0.224, 0.225)\n",
    "\n",
    "target = [1,2,1,4,2,4,3,5,1,0] #TARGET FAKE\n",
    "img_path = 'D:\\\\ORS\\\\Data\\\\ResizedImages\\\\'\n",
    "tab_path = 'D:\\\\ORS\\\\Data\\\\prova.xlsx'\n",
    "target_path = 'ciao'\n",
    "\n",
    "data, descriptions, references = get_tabular(img_path, tab_path)\n",
    "train, val, test = getDataset(references, data, descriptions, target_path)\n",
    "\n",
    "modello = neural_net.create_model()\n",
    "\n",
    "learning_rate = 1e-3\n",
    "batch_size = 1\n",
    "epochs = 2\n",
    "loss_fn = nn.MSELoss()\n",
    "optimizer = torch.optim.SGD(modello.parameters(), lr=learning_rate) \n",
    "early_stop = 3\n",
    "\n",
    "stable_loss = 0\n",
    "prec_loss = 20000\n",
    "for t in range(epochs):\n",
    "    print(f\"Epoch {t+1}\\n-------------------------------\")\n",
    "    neural_net.train_loop(train, modello, loss_fn, optimizer, 1)\n",
    "    val_loss = neural_net.validation_loop(val, modello, loss_fn)\n",
    "    stop, stable_loss = neural_net.early_stopping(val_loss, prec_loss, stable_loss, early_stop)\n",
    "    if stop:\n",
    "        break\n",
    "print(\"Done!\")"
   ]
  }
 ],
 "metadata": {
  "kernelspec": {
   "display_name": "Python 3",
   "language": "python",
   "name": "python3"
  },
  "language_info": {
   "codemirror_mode": {
    "name": "ipython",
    "version": 3
   },
   "file_extension": ".py",
   "mimetype": "text/x-python",
   "name": "python",
   "nbconvert_exporter": "python",
   "pygments_lexer": "ipython3",
   "version": "3.12.3"
  }
 },
 "nbformat": 4,
 "nbformat_minor": 2
}
