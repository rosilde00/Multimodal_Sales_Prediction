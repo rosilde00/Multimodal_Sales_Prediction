{
 "cells": [
  {
   "cell_type": "code",
   "execution_count": 1,
   "metadata": {},
   "outputs": [
    {
     "name": "stderr",
     "output_type": "stream",
     "text": [
      "d:\\Programmi\\Python3.12\\Lib\\site-packages\\torchtext\\data\\__init__.py:4: UserWarning: \n",
      "/!\\ IMPORTANT WARNING ABOUT TORCHTEXT STATUS /!\\ \n",
      "Torchtext is deprecated and the last released version will be 0.18 (this one). You can silence this warning by calling the following at the beginnign of your scripts: `import torchtext; torchtext.disable_torchtext_deprecation_warning()`\n",
      "  warnings.warn(torchtext._TORCHTEXT_DEPRECATION_MSG)\n"
     ]
    },
    {
     "name": "stdout",
     "output_type": "stream",
     "text": [
      "        Colore  PianoTaglia  WaveCode  AstronomicalSeasonDescription\n",
      "0    -0.844255    -0.908318 -1.213713                      -0.819539\n",
      "1    -0.836490    -0.908318 -1.213713                      -0.819539\n",
      "2    -0.828725    -0.908318 -1.213713                      -0.819539\n",
      "3    -0.820960    -0.908318 -1.206779                      -0.819539\n",
      "4    -0.813195    -0.908318 -1.199845                      -0.819539\n",
      "...        ...          ...       ...                            ...\n",
      "6478 -0.409416    -0.908318  2.086976                      -0.819539\n",
      "6479 -0.409416    -0.908318  2.086976                      -0.819539\n",
      "6480 -0.797665    -0.908318  2.086976                      -0.819539\n",
      "6481 -0.805430    -0.908318  2.086976                      -0.819539\n",
      "6482 -0.805430    -0.908318  2.086976                      -0.819539\n",
      "\n",
      "[6483 rows x 4 columns]\n"
     ]
    }
   ],
   "source": [
    "import preproc_tabular\n",
    "\n",
    "data, r, d = preproc_tabular.get_tabular(\"D:\\\\ORS\\\\Data\\\\Mauli.xlsx\")\n",
    "print(data)\n"
   ]
  },
  {
   "cell_type": "code",
   "execution_count": null,
   "metadata": {},
   "outputs": [],
   "source": []
  }
 ],
 "metadata": {
  "kernelspec": {
   "display_name": "Python 3",
   "language": "python",
   "name": "python3"
  },
  "language_info": {
   "codemirror_mode": {
    "name": "ipython",
    "version": 3
   },
   "file_extension": ".py",
   "mimetype": "text/x-python",
   "name": "python",
   "nbconvert_exporter": "python",
   "pygments_lexer": "ipython3",
   "version": "3.12.3"
  }
 },
 "nbformat": 4,
 "nbformat_minor": 2
}
