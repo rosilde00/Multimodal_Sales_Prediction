{
 "cells": [
  {
   "cell_type": "code",
   "execution_count": 24,
   "metadata": {},
   "outputs": [
    {
     "name": "stdout",
     "output_type": "stream",
     "text": [
      "212_969_44283_00_11A_*.jpg\n"
     ]
    },
    {
     "data": {
      "text/plain": [
       "\"\\ndata = data.drop(columns=['colorid'])  \\ndata_aggregate = data.groupby('prodcode', as_index=False).sum()\\ndata_aggregate.to_excel(dest_path, index=False)\""
      ]
     },
     "execution_count": 24,
     "metadata": {},
     "output_type": "execute_result"
    }
   ],
   "source": [
    "import pandas as pd\n",
    "\n",
    "path_anagrafica = 'C:\\\\ORS\\\\Data\\\\Anagrafica.csv'\n",
    "path_sales = 'C:\\\\ORS\\\\Data\\\\sales.csv'\n",
    "dest_path = 'C:\\\\ORS\\\\Data\\\\final_dataset.xlsx'\n",
    "data_anagrafica = pd.read_csv(path_anagrafica, names=['locid', 'prodcode', 'colorid', 'year', 'week', 'qty', 'netvalue'], header=None, sep=';')\n",
    "data = data.drop(columns=['locid', 'year', 'week', 'netvalue'], axis=1)\n",
    "\n",
    "for idx in range(0, len(data.values)):\n",
    "    ref = data.iloc[idx].values[0]\n",
    "    ref = ref[:3] + '_' + ref[4:7] + '_' + ref[7:12] + '_' + ref[12:14] + '_' + data.iloc[idx].values[1] + '_*.jpg'\n",
    "    data.iloc[idx,0] = ref\n",
    "\n",
    "data = data.drop(columns=['colorid'])  \n",
    "data_aggregate = data.groupby('prodcode', as_index=False).sum()\n",
    "data_aggregate.to_excel(dest_path, index=False)\n",
    "\n"
   ]
  }
 ],
 "metadata": {
  "kernelspec": {
   "display_name": "Python 3",
   "language": "python",
   "name": "python3"
  },
  "language_info": {
   "codemirror_mode": {
    "name": "ipython",
    "version": 3
   },
   "file_extension": ".py",
   "mimetype": "text/x-python",
   "name": "python",
   "nbconvert_exporter": "python",
   "pygments_lexer": "ipython3",
   "version": "3.12.4"
  }
 },
 "nbformat": 4,
 "nbformat_minor": 2
}
