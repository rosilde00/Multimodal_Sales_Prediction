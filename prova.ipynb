{
 "cells": [
  {
   "cell_type": "code",
   "execution_count": 74,
   "metadata": {},
   "outputs": [
    {
     "name": "stdout",
     "output_type": "stream",
     "text": [
      "7\n",
      "1\n",
      "\n",
      "\n",
      "2\n",
      "\n",
      "\n",
      "3\n",
      "\n",
      "\n",
      "4\n",
      "\n",
      "\n",
      "5\n",
      "\n",
      "\n",
      "6\n",
      "\n",
      "\n"
     ]
    }
   ],
   "source": [
    "import glob\n",
    "import preproc_tabular\n",
    "import pandas as pd\n",
    "import numpy as np\n",
    "import torch\n",
    "\n",
    "\n",
    "def duplicate_row(img_dir, data, descriptions, references):\n",
    "    new_ref = list(references)\n",
    "    for ref in references:\n",
    "        images = glob.glob(img_dir + ref + \".jpg\")\n",
    "        idx = new_ref.index(ref)\n",
    "        new_ref.remove(ref)\n",
    "        new_ref = new_ref[:idx] + images + new_ref[idx:]\n",
    "\n",
    "        times = len(images)-1\n",
    "        if times != 0:\n",
    "            descriptions = descriptions[:idx] + [descriptions[idx]]*times + descriptions[idx:]\n",
    "            new_data = data.values\n",
    "            new_data = np.insert(data.values, idx, [new_data[idx]]*times, axis=0)\n",
    "            new_data = pd.DataFrame(new_data)\n",
    "            new_data.columns = data.columns\n",
    "            data = new_data\n",
    "            \n",
    "    return new_data, descriptions, new_ref\n",
    "\n",
    "\n",
    "img_dir =  \"D:\\\\ORS\\\\Data\\\\Images\\\\\"\n",
    "data, ref, des = preproc_tabular.get_tabular('D:\\\\ORS\\\\Data\\\\Mauli_articoli_222_231_232.xlsx')\n",
    "ref= ['222_969_64273_00_37C_*', '222_969_64273_01_52I_*', '222_969_61434_00_10A_*']\n",
    "nd, ndd, nr = duplicate_row(img_dir, data[0:3], des[0:3], ref)"
   ]
  },
  {
   "cell_type": "code",
   "execution_count": null,
   "metadata": {},
   "outputs": [],
   "source": []
  }
 ],
 "metadata": {
  "kernelspec": {
   "display_name": "Python 3",
   "language": "python",
   "name": "python3"
  },
  "language_info": {
   "codemirror_mode": {
    "name": "ipython",
    "version": 3
   },
   "file_extension": ".py",
   "mimetype": "text/x-python",
   "name": "python",
   "nbconvert_exporter": "python",
   "pygments_lexer": "ipython3",
   "version": "3.12.3"
  }
 },
 "nbformat": 4,
 "nbformat_minor": 2
}
