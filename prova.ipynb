{
 "cells": [
  {
   "cell_type": "code",
   "execution_count": 1,
   "metadata": {},
   "outputs": [
    {
     "name": "stderr",
     "output_type": "stream",
     "text": [
      "d:\\Programmi\\Python3.12\\Lib\\site-packages\\torchtext\\data\\__init__.py:4: UserWarning: \n",
      "/!\\ IMPORTANT WARNING ABOUT TORCHTEXT STATUS /!\\ \n",
      "Torchtext is deprecated and the last released version will be 0.18 (this one). You can silence this warning by calling the following at the beginnign of your scripts: `import torchtext; torchtext.disable_torchtext_deprecation_warning()`\n",
      "  warnings.warn(torchtext._TORCHTEXT_DEPRECATION_MSG)\n",
      "d:\\Programmi\\Python3.12\\Lib\\site-packages\\torchvision\\models\\_utils.py:135: UserWarning: Using 'weights' as positional parameter(s) is deprecated since 0.13 and may be removed in the future. Please use keyword parameter(s) instead.\n",
      "  warnings.warn(\n"
     ]
    },
    {
     "name": "stdout",
     "output_type": "stream",
     "text": [
      "Epoch 1\n",
      "-------------------------------\n"
     ]
    },
    {
     "name": "stderr",
     "output_type": "stream",
     "text": [
      "d:\\Programmi\\Python3.12\\Lib\\site-packages\\torch\\nn\\modules\\loss.py:535: UserWarning: Using a target size (torch.Size([1])) that is different to the input size (torch.Size([1, 1])). This will likely lead to incorrect results due to broadcasting. Please ensure they have the same size.\n",
      "  return F.mse_loss(input, target, reduction=self.reduction)\n"
     ]
    },
    {
     "name": "stdout",
     "output_type": "stream",
     "text": [
      "loss: 1.000000\n",
      "loss: 1.000000\n",
      "loss: 16.000000\n",
      "loss: 0.000000\n",
      "loss: 9.000000\n",
      "loss: 25.000000\n",
      "Validation Error: \n",
      " Avg loss: 3.000000 \n",
      "\n",
      "Epoch 2\n",
      "-------------------------------\n",
      "loss: 1.000000\n",
      "loss: 1.000000\n",
      "loss: 16.000000\n",
      "loss: 0.000000\n",
      "loss: 9.000000\n",
      "loss: 25.000000\n",
      "Validation Error: \n",
      " Avg loss: 3.000000 \n",
      "\n",
      "Done!\n"
     ]
    }
   ],
   "source": [
    "import preproc_tabular\n",
    "from custom_dataset import getDataset\n",
    "import neural_net\n",
    "import torch\n",
    "from torch import nn\n",
    "\n",
    "\n",
    "target = [1,2,1,4,2,4,3,5,1,0] #TARGET FAKE\n",
    "img_path = 'D:\\\\ORS\\\\Data\\\\ResizedImages\\\\'\n",
    "tab_path = 'D:\\\\ORS\\\\Data\\\\prova.xlsx'\n",
    "\n",
    "data, references, descriptions, len_desc = preproc_tabular.get_tabular('D:\\\\ORS\\\\Data\\\\prova.xlsx')\n",
    "newdata, newdescription, newreferences = preproc_tabular.duplicate_row(img_path, data, descriptions, references)\n",
    "train, val, test = getDataset(newreferences, newdata, newdescription, \"ciao\")\n",
    " \n",
    "modello = neural_net.create_model(len_desc, len(data.columns))\n",
    "\n",
    "learning_rate = 1e-3\n",
    "batch_size = 1\n",
    "epochs = 2\n",
    "loss_fn = nn.MSELoss()\n",
    "optimizer = torch.optim.SGD(modello.parameters(), lr=learning_rate) \n",
    "early_stop = 3\n",
    "\n",
    "stable_loss = 0\n",
    "prec_loss = 20000\n",
    "for t in range(epochs):\n",
    "    print(f\"Epoch {t+1}\\n-------------------------------\")\n",
    "    neural_net.train_loop(train, modello, loss_fn, optimizer, 1)\n",
    "    val_loss = neural_net.validation_loop(val, modello, loss_fn)\n",
    "    stop, stable_loss = neural_net.early_stopping(val_loss, prec_loss, stable_loss, early_stop)\n",
    "    if stop:\n",
    "        break\n",
    "print(\"Done!\")"
   ]
  }
 ],
 "metadata": {
  "kernelspec": {
   "display_name": "Python 3",
   "language": "python",
   "name": "python3"
  },
  "language_info": {
   "codemirror_mode": {
    "name": "ipython",
    "version": 3
   },
   "file_extension": ".py",
   "mimetype": "text/x-python",
   "name": "python",
   "nbconvert_exporter": "python",
   "pygments_lexer": "ipython3",
   "version": "3.12.3"
  }
 },
 "nbformat": 4,
 "nbformat_minor": 2
}
