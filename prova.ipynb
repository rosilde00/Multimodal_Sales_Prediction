{
 "cells": [
  {
   "cell_type": "code",
   "execution_count": 12,
   "metadata": {},
   "outputs": [],
   "source": [
    "import pandas as pd\n",
    "import glob\n",
    "import numpy as np\n",
    "import shutil\n",
    "\n",
    "path = 'C:\\\\ORS\\\\Data\\\\aggregated_sales_final.xlsx'\n",
    "img_path = 'C:\\\\ORS\\\\Data\\\\222_2_di_2\\\\222_2_di_2\\\\'\n",
    "img_dest = 'C:\\\\ORS\\\\Data\\\\Images\\\\'\n",
    "\n",
    "data = pd.read_excel(path)\n",
    "references = data['prodcode'].values\n",
    "new_ref = list(references)\n",
    "for ref in list(references):\n",
    "    images = glob.glob(img_path + ref)\n",
    "    \n",
    "    if len(images) != 0:\n",
    "        images = list(map(lambda img: img[len(img_path):], images))\n",
    "    \n",
    "        idx = new_ref.index(ref)\n",
    "        new_ref.remove(ref)\n",
    "        new_ref = new_ref[:idx] + images + new_ref[idx:]\n",
    "        for img in images:\n",
    "            shutil.copy(img_path + img, img_dest + img)\n",
    "\n",
    "        times = len(images)-1\n",
    "        if times != 0:\n",
    "            new_data = data.values\n",
    "            new_data = np.insert(data.values, idx, [new_data[idx]]*times, axis=0)\n",
    "            new_data = pd.DataFrame(new_data)\n",
    "            new_data.columns = data.columns\n",
    "            data = new_data\n",
    "            \n",
    "data['prodcode'] = new_ref\n",
    "data.to_excel(path, index=False)"
   ]
  }
 ],
 "metadata": {
  "kernelspec": {
   "display_name": "Python 3",
   "language": "python",
   "name": "python3"
  },
  "language_info": {
   "codemirror_mode": {
    "name": "ipython",
    "version": 3
   },
   "file_extension": ".py",
   "mimetype": "text/x-python",
   "name": "python",
   "nbconvert_exporter": "python",
   "pygments_lexer": "ipython3",
   "version": "3.12.4"
  }
 },
 "nbformat": 4,
 "nbformat_minor": 2
}
