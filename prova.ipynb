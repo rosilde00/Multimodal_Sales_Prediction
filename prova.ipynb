{
 "cells": [
  {
   "cell_type": "code",
   "execution_count": 23,
   "metadata": {},
   "outputs": [],
   "source": [
    "import torch\n",
    "from torchvision.io import read_image\n",
    "from torchvision.io import ImageReadMode\n",
    "import sales_prediction.sales_prediction as sp\n",
    "from pathlib import Path\n",
    "import pandas as pd\n",
    "import os\n",
    "import pandas as pd\n",
    "\n",
    "data = pd.read_csv('C:\\\\Users\\\\GRVRLD00P\\\\Documents\\\\Progetto ORS\\\\Dati\\\\front_img_week.csv')\n",
    "data = data.sort_values(['Descrizione', 'Week', 'LocationId'], ascending=[True, True, True])\n",
    "data.to_csv('C:\\\\Users\\\\GRVRLD00P\\\\Documents\\\\Progetto ORS\\\\Dati\\\\front_img_week.csv', index=False)\n",
    "\n",
    "\n"
   ]
  },
  {
   "cell_type": "code",
   "execution_count": 29,
   "metadata": {},
   "outputs": [],
   "source": [
    "import pandas as pd\n",
    "\n",
    "data = pd.read_csv('C:\\\\Users\\\\GRVRLD00P\\\\Documents\\\\Progetto ORS\\\\Dati\\\\sales_anagrafica_final.csv')\n",
    "data = data.sort_values(['Descrizione', 'Week', 'LocationId'], ascending=[True, True, True])\n",
    "aggregated_data = data.groupby(['Descrizione','CodiceColore','PianoTaglia','AreaCode','CategoryCode','SectorCode','DepartmentCode','WaveCode','AstronomicalSeasonExternalID','SalesSeasonDescription', 'Week','IdProdotto'], as_index=False)['Quantity'].sum()\n",
    "aggregated_data.to_csv('C:\\\\Users\\\\GRVRLD00P\\\\Documents\\\\Progetto ORS\\\\Dati\\\\nonegozio_week.csv', index=False)\n"
   ]
  }
 ],
 "metadata": {
  "kernelspec": {
   "display_name": "Python 3",
   "language": "python",
   "name": "python3"
  },
  "language_info": {
   "codemirror_mode": {
    "name": "ipython",
    "version": 3
   },
   "file_extension": ".py",
   "mimetype": "text/x-python",
   "name": "python",
   "nbconvert_exporter": "python",
   "pygments_lexer": "ipython3",
   "version": "3.12.4"
  }
 },
 "nbformat": 4,
 "nbformat_minor": 2
}
