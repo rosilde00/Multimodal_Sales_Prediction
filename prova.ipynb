{
 "cells": [
  {
   "cell_type": "code",
   "execution_count": null,
   "metadata": {},
   "outputs": [],
   "source": [
    "import sales_prediction.sales_prediction as sp\n",
    "import torch\n",
    "import torch.nn as nn\n",
    "from sales_prediction.preproc_tabular import get_tabular\n",
    "from sales_prediction.dataset_sales import getDataset\n",
    "from transformers import AutoModel\n",
    "\n",
    "device = (\n",
    "    \"cuda\"\n",
    "    if torch.cuda.is_available()\n",
    "    else \"mps\"\n",
    "    if torch.backends.mps.is_available()\n",
    "    else \"cpu\"\n",
    ")\n",
    "\n",
    "img_path = 'C:\\\\Users\\\\GRVRLD00P\\\\Documents\\\\Progetto ORS\\\\Dati\\\\ResizedImages\\\\'\n",
    "tab_path = 'C:\\\\Users\\\\GRVRLD00P\\\\Documents\\\\Progetto ORS\\\\Dati\\\\sales_anagrafica_final.csv'\n",
    "aggregated_path = 'C:\\\\Users\\\\GRVRLD00P\\\\Documents\\\\Progetto ORS\\\\Dati\\\\aggregated_sales_season.csv'\n",
    "aggregated_month_path = 'C:\\\\Users\\\\GRVRLD00P\\\\Documents\\\\Progetto ORS\\\\Dati\\\\aggregated_sales_month.csv'\n",
    "\n",
    "model = torch.jit.load('C:\\\\Users\\\\GRVRLD00P\\\\Documents\\\\Progetto ORS\\\\results\\\\agg_2\\\\weights.pt')\n",
    "model.eval()\n",
    "print(\"importato\")\n",
    "loss_fn = nn.MSELoss()\n",
    "data, references, descriptions = get_tabular(aggregated_path)\n",
    "train, val = getDataset(references, data, descriptions, img_path, 64)\n",
    "avg_mse = 0\n",
    "num_batches = len(val)\n",
    "\n",
    "with torch.no_grad(): #si assicura che il gradiente qui non venga calcolato\n",
    "        for img, tab, desc, y in val:\n",
    "            img, tab, y = img.to(device), tab.to(device), y.to(device)\n",
    "        \n",
    "            bert = AutoModel.from_pretrained(\"distilbert-base-multilingual-cased\")\n",
    "            bert_res = bert(**desc)\n",
    "            desc_tensor = bert_res.last_hidden_state[:,0,:]\n",
    "            desc_tensor = desc_tensor.to(device)\n",
    "        \n",
    "            pred = model(img, tab, desc_tensor)\n",
    "            avg_mse += loss_fn(pred.squeeze(), y.float()).item()\n",
    "            print(\"calcolata loss\")\n",
    "\n",
    "avg_mse /= num_batches  \n",
    "print('Validation Error: \\n Avg MSE: {avg_mse:>8f}')\n"
   ]
  }
 ],
 "metadata": {
  "kernelspec": {
   "display_name": "Python 3",
   "language": "python",
   "name": "python3"
  },
  "language_info": {
   "codemirror_mode": {
    "name": "ipython",
    "version": 3
   },
   "file_extension": ".py",
   "mimetype": "text/x-python",
   "name": "python",
   "nbconvert_exporter": "python",
   "pygments_lexer": "ipython3",
   "version": "3.12.4"
  }
 },
 "nbformat": 4,
 "nbformat_minor": 2
}
