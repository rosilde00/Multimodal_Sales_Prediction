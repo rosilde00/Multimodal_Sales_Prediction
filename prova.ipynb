{
 "cells": [
  {
   "cell_type": "code",
   "execution_count": 9,
   "metadata": {},
   "outputs": [
    {
     "name": "stdout",
     "output_type": "stream",
     "text": [
      "   CodiceColore  PianoTaglia  AreaCode  CategoryCode  SectorCode  \\\n",
      "0     -0.718346    -0.998867 -1.389163     -2.057545   -1.666164   \n",
      "1     -0.718346    -0.998867 -1.389163     -2.057545   -1.666164   \n",
      "2     -0.711045    -0.998867 -1.389163     -2.057545   -1.666164   \n",
      "3     -0.703744    -0.998867 -1.389163     -2.057545   -1.666164   \n",
      "4     -0.703744    -0.998867 -1.389163     -2.057545   -1.666164   \n",
      "5     -0.703744    -0.998867 -1.389163     -2.057545   -1.666164   \n",
      "6     -0.703744    -0.245112 -0.829134     -1.985869   -1.628599   \n",
      "7     -0.711045    -0.245112 -0.829134     -1.985869   -1.628599   \n",
      "8     -0.696442    -0.245112 -0.829134     -1.985869   -1.628599   \n",
      "9     -0.703744    -0.245112 -0.829134     -1.985869   -1.628599   \n",
      "\n",
      "   DepartmentCode  WaveCode  AstronomicalSeasonExternalID  \\\n",
      "0       -1.924277 -1.693218                      -1.16807   \n",
      "1       -1.924277 -1.693218                      -1.16807   \n",
      "2       -1.924277 -1.693218                      -1.16807   \n",
      "3       -1.924277 -1.693218                      -1.16807   \n",
      "4       -1.924277 -1.693218                      -1.16807   \n",
      "5       -1.924277 -1.693218                      -1.16807   \n",
      "6       -1.905880 -1.685786                      -1.16807   \n",
      "7       -1.905880 -1.685786                      -1.16807   \n",
      "8       -1.905880 -1.685786                      -1.16807   \n",
      "9       -1.905880 -1.685786                      -1.16807   \n",
      "\n",
      "   SalesSeasonDescription  \n",
      "0               -1.141375  \n",
      "1               -1.141375  \n",
      "2               -1.141375  \n",
      "3               -1.141375  \n",
      "4               -1.141375  \n",
      "5               -1.141375  \n",
      "6               -1.141375  \n",
      "7               -1.141375  \n",
      "8               -1.141375  \n",
      "9               -1.141375  \n",
      "['222_602_48835_00_11A_*', '222_602_48836_00_11A_*', '222_602_48837_00_97Z_*', '222_602_48838_00_94Z_*', '222_602_48839_00_94Z_*', '222_602_48840_00_94Z_*', '222_602_48841_00_94Z_*', '222_602_48842_00_97Z_*', '222_602_48843_00_91Z_*', '222_602_48844_00_94Z_*']\n"
     ]
    }
   ],
   "source": [
    "\n",
    "import pandas as pd\n",
    "\n",
    "def get_tabular(path):\n",
    "    data = pd.read_excel(path)\n",
    "    references = modify_ref(data['Stagione'], data['CodiceArticolo'], data['CodiceColore'])\n",
    "    description_embedding = data['Descrizione']\n",
    "    data = data.drop(['Stagione', 'CodiceArticolo', 'Descrizione', 'DescrizioneColore', 'AreaDescription', \n",
    "                      'CategoryDescription', 'SectorDescription', 'DepartmentDescription', 'WaveDescription',\n",
    "                      'AstronomicalSeasonDescription', 'SalesSeasonBeginDate', 'SalesSeasonEndDate'], axis='columns')\n",
    "    \n",
    "    for col in data.columns:\n",
    "        encoded_labels, _ = pd.factorize(data[col])\n",
    "        encoded_labels = (encoded_labels - encoded_labels.mean())/encoded_labels.std()\n",
    "        data[col] = encoded_labels\n",
    "    \n",
    "    return data, references, description_embedding #data è un dataframe, references lista di stringhe, desc_emb lista di tensori\n",
    "    \n",
    "def modify_ref(season, catr, ccol):\n",
    "    new_ref = list()\n",
    "    for sn, ca, cc in zip(season, catr, ccol):\n",
    "        sn = str(sn)\n",
    "        ca = str(ca)\n",
    "        cc = str(cc)\n",
    "        r = sn + '_' + ca[:3] + '_' + ca[3:8] + '_' + ca[8:] + '_' + cc + '_*'\n",
    "        new_ref.append(r)\n",
    "    return new_ref\n",
    "\n",
    "data, ref, desc = get_tabular('D:\\\\ORS\\\\Data\\\\Anagrafica.xlsx')\n",
    "print(data.iloc[:10])\n",
    "print(ref[:10])"
   ]
  }
 ],
 "metadata": {
  "kernelspec": {
   "display_name": "Python 3",
   "language": "python",
   "name": "python3"
  },
  "language_info": {
   "codemirror_mode": {
    "name": "ipython",
    "version": 3
   },
   "file_extension": ".py",
   "mimetype": "text/x-python",
   "name": "python",
   "nbconvert_exporter": "python",
   "pygments_lexer": "ipython3",
   "version": "3.12.3"
  }
 },
 "nbformat": 4,
 "nbformat_minor": 2
}
