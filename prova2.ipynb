{
 "cells": [
  {
   "cell_type": "code",
   "execution_count": null,
   "metadata": {},
   "outputs": [
    {
     "name": "stderr",
     "output_type": "stream",
     "text": [
      "c:\\Users\\GRVRLD00P\\AppData\\Local\\Programs\\Python\\Python312\\Lib\\site-packages\\torchvision\\models\\_utils.py:135: UserWarning: Using 'weights' as positional parameter(s) is deprecated since 0.13 and may be removed in the future. Please use keyword parameter(s) instead.\n",
      "  warnings.warn(\n"
     ]
    },
    {
     "name": "stdout",
     "output_type": "stream",
     "text": [
      "0\n",
      "100\n",
      "200\n",
      "300\n",
      "400\n",
      "500\n",
      "600\n",
      "700\n"
     ]
    }
   ],
   "source": [
    "import glob\n",
    "import os\n",
    "from PIL import Image\n",
    "from torchvision.models.vision_transformer import vit_b_16\n",
    "from torchvision.models.vision_transformer import ViT_B_16_Weights\n",
    "from torchvision.models.vision_transformer import vit_l_16\n",
    "from torchvision.models.vision_transformer import ViT_L_16_Weights\n",
    "from torchvision.transforms import v2\n",
    "import torch\n",
    "\n",
    "IMAGENET_DEFAULT_MEAN = (0.485, 0.456, 0.406)\n",
    "IMAGENET_DEFAULT_STD = (0.229, 0.224, 0.225)\n",
    "\n",
    "img_path = 'C:\\\\Users\\\\GRVRLD00P\\\\Documents\\\\Progetto ORS\\\\Dati\\\\ResizedImages\\\\*'\n",
    "images = glob.glob(img_path)\n",
    "\n",
    "vit = vit_l_16(ViT_L_16_Weights.IMAGENET1K_SWAG_E2E_V1)\n",
    "transform_img = v2.Compose([\n",
    "        v2.Resize((512, 512)),\n",
    "        v2.ToImage(),\n",
    "        v2.ToDtype(torch.float32, scale=True),\n",
    "        v2.Normalize(IMAGENET_DEFAULT_MEAN, IMAGENET_DEFAULT_STD)\n",
    "    ])\n",
    "\n",
    "embeddings = []\n",
    "ids = []\n",
    "i=0\n",
    "for path in images:\n",
    "    image = transform_img(Image.open(path)).unsqueeze(0)\n",
    "    with torch.no_grad():\n",
    "        img_emb = vit(image)\n",
    "    embeddings.append(img_emb.squeeze())\n",
    "    ids.append(os.path.basename(path))\n",
    "    if i%100 == 0:\n",
    "        print(i)\n",
    "    i+=1\n",
    "\n",
    "img_dict = {}\n",
    "for i in range(0,len(ids)):\n",
    "   img_dict[ids[i]] = embeddings[i]\n",
    "\n",
    "torch.save(img_dict, 'images.pt')\n",
    "    "
   ]
  },
  {
   "cell_type": "code",
   "execution_count": 1,
   "metadata": {},
   "outputs": [],
   "source": [
    "from PIL import Image\n",
    "from torchvision.transforms import v2\n",
    "\n",
    "# Definisci la trasformazione che ridimensiona l'immagine a 512x512\n",
    "resize_transform = v2.Resize((512, 512))\n",
    "\n",
    "# Carica l'immagine (supponiamo che l'immagine sia in formato PIL)\n",
    "img_path = \"C:\\\\Users\\\\GRVRLD00P\\\\Documents\\\\Progetto ORS\\\\Dati\\\\Images\\\\222_969_64136_04_26F_1.jpg\"  # Sostituisci con il path della tua immagine\n",
    "image = Image.open(img_path)\n",
    "\n",
    "# Applica la trasformazione di ridimensionamento\n",
    "resized_image = resize_transform(image)\n",
    "\n",
    "# Ora 'resized_image' è l'immagine ridimensionata a 512x512\n",
    "resized_image.show()  # Mostra l'immagine ridimensionata (opzionale)"
   ]
  },
  {
   "cell_type": "code",
   "execution_count": 4,
   "metadata": {},
   "outputs": [
    {
     "name": "stdout",
     "output_type": "stream",
     "text": [
      "qty                             1.000000\n",
      "AreaCode                        0.222316\n",
      "CategoryCode                    0.218559\n",
      "DepartmentCode                  0.217892\n",
      "SectorCode                      0.214073\n",
      "PianoTaglia                     0.071415\n",
      "CodiceColore                    0.032459\n",
      "WaveCode                        0.023067\n",
      "AstronomicalSeasonExternalID   -0.049293\n",
      "LocationId                     -0.080055\n",
      "SalesSeasonDescription         -0.092811\n",
      "Name: qty, dtype: float64\n"
     ]
    },
    {
     "name": "stderr",
     "output_type": "stream",
     "text": [
      "c:\\Users\\GRVRLD00P\\Documents\\Progetto ORS\\Progetto ORS\\ProgettoORS\\sales_prediction\\preproc_tabular.py:8: FutureWarning: You are using `torch.load` with `weights_only=False` (the current default value), which uses the default pickle module implicitly. It is possible to construct malicious pickle data which will execute arbitrary code during unpickling (See https://github.com/pytorch/pytorch/blob/main/SECURITY.md#untrusted-models for more details). In a future release, the default value for `weights_only` will be flipped to `True`. This limits the functions that could be executed during unpickling. Arbitrary objects will no longer be allowed to be loaded via this mode unless they are explicitly allowlisted by the user via `torch.serialization.add_safe_globals`. We recommend you start setting `weights_only=True` for any use case where you don't have full control of the loaded file. Please open an issue on GitHub for any issues related to this experimental feature.\n",
      "  descrizioni = torch.load(desc_path)\n"
     ]
    }
   ],
   "source": [
    "from sales_prediction.get_data import get_tabular\n",
    "\n",
    "data, _ , _, target = get_tabular('C:\\\\Users\\\\GRVRLD00P\\\\Documents\\\\Progetto ORS\\\\Dati\\\\front_img_season.csv', 'C:\\\\Users\\\\GRVRLD00P\\\\Documents\\\\Progetto ORS\\\\Dati\\\\descrizioni\\\\descrizioni.pt')\n",
    "data['qty'] = target\n",
    "correlazioni = data.corr()['qty'].sort_values(ascending=False)\n",
    "print(correlazioni)"
   ]
  }
 ],
 "metadata": {
  "kernelspec": {
   "display_name": "Python 3",
   "language": "python",
   "name": "python3"
  },
  "language_info": {
   "codemirror_mode": {
    "name": "ipython",
    "version": 3
   },
   "file_extension": ".py",
   "mimetype": "text/x-python",
   "name": "python",
   "nbconvert_exporter": "python",
   "pygments_lexer": "ipython3",
   "version": "3.12.4"
  }
 },
 "nbformat": 4,
 "nbformat_minor": 2
}
