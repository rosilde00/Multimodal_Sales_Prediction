{
 "cells": [
  {
   "cell_type": "code",
   "execution_count": 12,
   "metadata": {},
   "outputs": [
    {
     "name": "stdout",
     "output_type": "stream",
     "text": [
      "['tripack calze unite']\n",
      "{'input_ids': tensor([[  101, 37307, 33145, 25923, 10870, 16511, 10112,   102]]), 'attention_mask': tensor([[1, 1, 1, 1, 1, 1, 1, 1]])}\n"
     ]
    },
    {
     "data": {
      "text/plain": [
       "BaseModelOutput(last_hidden_state=tensor([[[-0.0671,  0.0965,  0.3516,  ...,  0.3986,  0.0950,  0.1249],\n",
       "         [ 0.0022,  0.0019,  0.2116,  ...,  0.5876, -0.1668,  0.1778],\n",
       "         [ 0.0820,  0.1548,  0.4061,  ...,  0.4248,  0.1132,  0.3374],\n",
       "         ...,\n",
       "         [ 0.1096, -0.1985,  0.8352,  ...,  0.5364, -0.0496,  0.3821],\n",
       "         [-0.4554,  0.1418,  0.8918,  ...,  0.1899,  0.2309,  0.5511],\n",
       "         [-0.0018,  0.0439,  0.6076,  ...,  0.5403,  0.0793,  0.3478]]],\n",
       "       grad_fn=<NativeLayerNormBackward0>), hidden_states=None, attentions=None)"
      ]
     },
     "execution_count": 12,
     "metadata": {},
     "output_type": "execute_result"
    }
   ],
   "source": [
    "from transformers import AutoTokenizer, AutoModel\n",
    "\n",
    "desc = ['TRIPACK CALZE UNITE']\n",
    "desc = list(map(lambda d: d.lower(), desc))\n",
    "print(desc)\n",
    "tokenizer = AutoTokenizer.from_pretrained(\"distilbert-base-multilingual-cased\")\n",
    "tokenized_desc = tokenizer(desc, padding = True, truncation = True, add_special_tokens = True, return_tensors=\"pt\")\n",
    "print(tokenized_desc)\n",
    "\n",
    "model = AutoModel.from_pretrained(\"distilbert-base-multilingual-cased\")\n",
    "res = model(**tokenized_desc)\n",
    "res"
   ]
  }
 ],
 "metadata": {
  "kernelspec": {
   "display_name": "Python 3",
   "language": "python",
   "name": "python3"
  },
  "language_info": {
   "codemirror_mode": {
    "name": "ipython",
    "version": 3
   },
   "file_extension": ".py",
   "mimetype": "text/x-python",
   "name": "python",
   "nbconvert_exporter": "python",
   "pygments_lexer": "ipython3",
   "version": "3.12.3"
  }
 },
 "nbformat": 4,
 "nbformat_minor": 2
}
