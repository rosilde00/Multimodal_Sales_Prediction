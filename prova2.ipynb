{
 "cells": [
  {
   "cell_type": "code",
   "execution_count": 1,
   "metadata": {},
   "outputs": [],
   "source": [
    "import pandas as pd\n",
    "\n",
    "path = 'C:\\\\ORS\\\\Data\\\\aggregated_sales_final.xlsx'\n",
    "dest = 'C:\\\\ORS\\\\Data\\\\aggregated_sales_final1.xlsx'\n",
    "data = pd.read_excel(path)\n",
    "mask = ~data['prodcode'].str.startswith(('221')) #perchè le img sono del 222 e 23\n",
    "data = data[mask]\n",
    "data.to_excel(dest, index=False)"
   ]
  }
 ],
 "metadata": {
  "kernelspec": {
   "display_name": "Python 3",
   "language": "python",
   "name": "python3"
  },
  "language_info": {
   "codemirror_mode": {
    "name": "ipython",
    "version": 3
   },
   "file_extension": ".py",
   "mimetype": "text/x-python",
   "name": "python",
   "nbconvert_exporter": "python",
   "pygments_lexer": "ipython3",
   "version": "3.12.4"
  }
 },
 "nbformat": 4,
 "nbformat_minor": 2
}
