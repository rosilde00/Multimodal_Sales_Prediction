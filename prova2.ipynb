{
 "cells": [
  {
   "cell_type": "code",
   "execution_count": 1,
   "metadata": {},
   "outputs": [
    {
     "name": "stdout",
     "output_type": "stream",
     "text": [
      "qty                             1.000000\n",
      "AreaCode                        0.148315\n",
      "CategoryCode                    0.145409\n",
      "DepartmentCode                  0.145242\n",
      "SectorCode                      0.142311\n",
      "Month                           0.046003\n",
      "WaveCode                        0.045220\n",
      "PianoTaglia                     0.026770\n",
      "CodiceColore                    0.019580\n",
      "AstronomicalSeasonExternalID    0.005980\n",
      "SalesSeasonDescription         -0.004066\n",
      "LocationId                     -0.051887\n",
      "Name: qty, dtype: float64\n"
     ]
    }
   ],
   "source": [
    "\n",
    "from sales_prediction.preproc_tabular import get_tabular\n",
    "\n",
    "data, _ , _, target = get_tabular('C:\\\\Users\\\\GRVRLD00P\\\\Documents\\\\Progetto ORS\\\\Dati\\\\aggregated_sales_month.csv')\n",
    "data['qty'] = target\n",
    "correlazioni = data.corr()['qty'].sort_values(ascending=False)\n",
    "print(correlazioni)"
   ]
  },
  {
   "cell_type": "code",
   "execution_count": 3,
   "metadata": {},
   "outputs": [
    {
     "name": "stdout",
     "output_type": "stream",
     "text": [
      "qty                             1.000000\n",
      "AreaCode                        0.227017\n",
      "CategoryCode                    0.223083\n",
      "DepartmentCode                  0.222458\n",
      "SectorCode                      0.218487\n",
      "PianoTaglia                     0.070940\n",
      "CodiceColore                    0.031454\n",
      "WaveCode                        0.020944\n",
      "AstronomicalSeasonExternalID   -0.039400\n",
      "LocationId                     -0.080353\n",
      "SalesSeasonDescription         -0.088046\n",
      "Name: qty, dtype: float64\n"
     ]
    }
   ],
   "source": [
    "from sales_prediction.preproc_tabular import get_tabular\n",
    "\n",
    "data, _ , _, target = get_tabular('C:\\\\Users\\\\GRVRLD00P\\\\Documents\\\\Progetto ORS\\\\Dati\\\\aggregated_sales_season.csv')\n",
    "data['qty'] = target\n",
    "correlazioni = data.corr()['qty'].sort_values(ascending=False)\n",
    "print(correlazioni)"
   ]
  },
  {
   "cell_type": "code",
   "execution_count": 4,
   "metadata": {},
   "outputs": [
    {
     "name": "stdout",
     "output_type": "stream",
     "text": [
      "Quantity      1.000000\n",
      "LocationId   -0.080353\n",
      "Name: Quantity, dtype: float64\n"
     ]
    }
   ],
   "source": [
    "from sales_prediction.preproc_tabular import get_tabular\n",
    "import pandas as pd\n",
    "\n",
    "data = pd.read_csv('C:\\\\Users\\\\GRVRLD00P\\\\Documents\\\\Progetto ORS\\\\Dati\\\\aggregated_sales_season.csv')\n",
    "\n",
    "data = data.drop(columns=['IdProdotto','Descrizione','CodiceColore','PianoTaglia','AreaCode','CategoryCode','SectorCode','DepartmentCode','WaveCode','AstronomicalSeasonExternalID','SalesSeasonDescription'])\n",
    "correlazioni = data.corr()['Quantity'].sort_values(ascending=False)\n",
    "print(correlazioni)"
   ]
  }
 ],
 "metadata": {
  "kernelspec": {
   "display_name": "Python 3",
   "language": "python",
   "name": "python3"
  },
  "language_info": {
   "codemirror_mode": {
    "name": "ipython",
    "version": 3
   },
   "file_extension": ".py",
   "mimetype": "text/x-python",
   "name": "python",
   "nbconvert_exporter": "python",
   "pygments_lexer": "ipython3",
   "version": "3.12.4"
  }
 },
 "nbformat": 4,
 "nbformat_minor": 2
}
