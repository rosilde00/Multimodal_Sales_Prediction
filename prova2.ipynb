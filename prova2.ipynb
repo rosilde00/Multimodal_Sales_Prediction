{
 "cells": [
  {
   "cell_type": "code",
   "execution_count": 2,
   "metadata": {},
   "outputs": [],
   "source": [
    "import os\n",
    "\n",
    "cartella = input(\"Inserire il nome della cartella in cui salvare i pesi.\")\n",
    "os.makedirs(f'.\\\\results\\\\{cartella}')\n",
    "descrizione = input(\"Inserire la descrizione dei pesi salvati\")\n",
    "with open(f'.\\\\results\\\\{cartella}\\\\descrizione.txt', 'w') as file:\n",
    "    file.write(descrizione)\n",
    "\n"
   ]
  }
 ],
 "metadata": {
  "kernelspec": {
   "display_name": "Python 3",
   "language": "python",
   "name": "python3"
  },
  "language_info": {
   "codemirror_mode": {
    "name": "ipython",
    "version": 3
   },
   "file_extension": ".py",
   "mimetype": "text/x-python",
   "name": "python",
   "nbconvert_exporter": "python",
   "pygments_lexer": "ipython3",
   "version": "3.12.4"
  }
 },
 "nbformat": 4,
 "nbformat_minor": 2
}
