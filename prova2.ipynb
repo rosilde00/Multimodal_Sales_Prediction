{
 "cells": [
  {
   "cell_type": "code",
   "execution_count": 12,
   "metadata": {},
   "outputs": [
    {
     "name": "stdout",
     "output_type": "stream",
     "text": [
      "A\n",
      "B\n",
      "A\n",
      "C\n",
      "B\n",
      "A\n"
     ]
    }
   ],
   "source": [
    "import pandas as pd\n",
    "\n",
    "df = pd.DataFrame({\n",
    "    'idProdotto': ['A', 'B', 'A', 'C', 'B', 'A'],\n",
    "    'NumVenduti': [10, 15, 5, 8, 12, 7]\n",
    "})\n",
    "\n",
    "aggregated_df = df.groupby('idProdotto', as_index=False).sum()\n",
    "for id in df.values:\n",
    "    print(id[0])\n",
    "aggregated_df.to_excel('C:\\\\ORS\\\\Data\\\\aggregated_sales.xlsx', index=False)\n"
   ]
  }
 ],
 "metadata": {
  "kernelspec": {
   "display_name": "Python 3",
   "language": "python",
   "name": "python3"
  },
  "language_info": {
   "codemirror_mode": {
    "name": "ipython",
    "version": 3
   },
   "file_extension": ".py",
   "mimetype": "text/x-python",
   "name": "python",
   "nbconvert_exporter": "python",
   "pygments_lexer": "ipython3",
   "version": "3.12.4"
  }
 },
 "nbformat": 4,
 "nbformat_minor": 2
}
