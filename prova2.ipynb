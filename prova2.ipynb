{
 "cells": [
  {
   "cell_type": "code",
   "execution_count": 2,
   "metadata": {},
   "outputs": [
    {
     "name": "stdout",
     "output_type": "stream",
     "text": [
      "qty                             1.000000\n",
      "AreaCode                        0.105641\n",
      "CategoryCode                    0.103760\n",
      "DepartmentCode                  0.103667\n",
      "SectorCode                      0.101505\n",
      "Week                            0.034473\n",
      "WaveCode                        0.024649\n",
      "CodiceColore                    0.012856\n",
      "PianoTaglia                     0.004555\n",
      "AstronomicalSeasonExternalID    0.003709\n",
      "SalesSeasonDescription          0.000459\n",
      "LocationId                     -0.046512\n",
      "Name: qty, dtype: float64\n"
     ]
    },
    {
     "name": "stderr",
     "output_type": "stream",
     "text": [
      "c:\\Users\\GRVRLD00P\\Documents\\Progetto ORS\\Progetto ORS\\ProgettoORS\\sales_prediction\\preproc_tabular.py:8: FutureWarning: You are using `torch.load` with `weights_only=False` (the current default value), which uses the default pickle module implicitly. It is possible to construct malicious pickle data which will execute arbitrary code during unpickling (See https://github.com/pytorch/pytorch/blob/main/SECURITY.md#untrusted-models for more details). In a future release, the default value for `weights_only` will be flipped to `True`. This limits the functions that could be executed during unpickling. Arbitrary objects will no longer be allowed to be loaded via this mode unless they are explicitly allowlisted by the user via `torch.serialization.add_safe_globals`. We recommend you start setting `weights_only=True` for any use case where you don't have full control of the loaded file. Please open an issue on GitHub for any issues related to this experimental feature.\n",
      "  descrizioni = torch.load(desc_path)\n"
     ]
    }
   ],
   "source": [
    "\n",
    "from sales_prediction.preproc_tabular import get_tabular\n",
    "\n",
    "data, _ , _, target = get_tabular('C:\\\\Users\\\\GRVRLD00P\\\\Documents\\\\Progetto ORS\\\\Dati\\\\front_img_week.csv', 'C:\\\\Users\\\\GRVRLD00P\\\\Documents\\\\Progetto ORS\\\\Dati\\\\descrizioni\\\\descrizioni.pt')\n",
    "data['qty'] = target\n",
    "correlazioni = data.corr()['qty'].sort_values(ascending=False)\n",
    "print(correlazioni)"
   ]
  },
  {
   "cell_type": "code",
   "execution_count": 3,
   "metadata": {},
   "outputs": [
    {
     "name": "stdout",
     "output_type": "stream",
     "text": [
      "qty                             1.000000\n",
      "AreaCode                        0.148091\n",
      "CategoryCode                    0.145193\n",
      "DepartmentCode                  0.145017\n",
      "SectorCode                      0.142088\n",
      "Month                           0.045964\n",
      "WaveCode                        0.044536\n",
      "PianoTaglia                     0.026735\n",
      "CodiceColore                    0.019259\n",
      "AstronomicalSeasonExternalID    0.005975\n",
      "SalesSeasonDescription         -0.004045\n",
      "LocationId                     -0.051938\n",
      "Name: qty, dtype: float64\n"
     ]
    },
    {
     "name": "stderr",
     "output_type": "stream",
     "text": [
      "c:\\Users\\GRVRLD00P\\Documents\\Progetto ORS\\Progetto ORS\\ProgettoORS\\sales_prediction\\preproc_tabular.py:8: FutureWarning: You are using `torch.load` with `weights_only=False` (the current default value), which uses the default pickle module implicitly. It is possible to construct malicious pickle data which will execute arbitrary code during unpickling (See https://github.com/pytorch/pytorch/blob/main/SECURITY.md#untrusted-models for more details). In a future release, the default value for `weights_only` will be flipped to `True`. This limits the functions that could be executed during unpickling. Arbitrary objects will no longer be allowed to be loaded via this mode unless they are explicitly allowlisted by the user via `torch.serialization.add_safe_globals`. We recommend you start setting `weights_only=True` for any use case where you don't have full control of the loaded file. Please open an issue on GitHub for any issues related to this experimental feature.\n",
      "  descrizioni = torch.load(desc_path)\n"
     ]
    }
   ],
   "source": [
    "from sales_prediction.preproc_tabular import get_tabular\n",
    "\n",
    "data, _ , _, target = get_tabular('C:\\\\Users\\\\GRVRLD00P\\\\Documents\\\\Progetto ORS\\\\Dati\\\\front_img_month.csv', 'C:\\\\Users\\\\GRVRLD00P\\\\Documents\\\\Progetto ORS\\\\Dati\\\\descrizioni\\\\descrizioni.pt')\n",
    "data['qty'] = target\n",
    "correlazioni = data.corr()['qty'].sort_values(ascending=False)\n",
    "print(correlazioni)"
   ]
  },
  {
   "cell_type": "code",
   "execution_count": 4,
   "metadata": {},
   "outputs": [
    {
     "name": "stdout",
     "output_type": "stream",
     "text": [
      "qty                             1.000000\n",
      "AreaCode                        0.222316\n",
      "CategoryCode                    0.218559\n",
      "DepartmentCode                  0.217892\n",
      "SectorCode                      0.214073\n",
      "PianoTaglia                     0.071415\n",
      "CodiceColore                    0.032459\n",
      "WaveCode                        0.023067\n",
      "AstronomicalSeasonExternalID   -0.049293\n",
      "LocationId                     -0.080055\n",
      "SalesSeasonDescription         -0.092811\n",
      "Name: qty, dtype: float64\n"
     ]
    },
    {
     "name": "stderr",
     "output_type": "stream",
     "text": [
      "c:\\Users\\GRVRLD00P\\Documents\\Progetto ORS\\Progetto ORS\\ProgettoORS\\sales_prediction\\preproc_tabular.py:8: FutureWarning: You are using `torch.load` with `weights_only=False` (the current default value), which uses the default pickle module implicitly. It is possible to construct malicious pickle data which will execute arbitrary code during unpickling (See https://github.com/pytorch/pytorch/blob/main/SECURITY.md#untrusted-models for more details). In a future release, the default value for `weights_only` will be flipped to `True`. This limits the functions that could be executed during unpickling. Arbitrary objects will no longer be allowed to be loaded via this mode unless they are explicitly allowlisted by the user via `torch.serialization.add_safe_globals`. We recommend you start setting `weights_only=True` for any use case where you don't have full control of the loaded file. Please open an issue on GitHub for any issues related to this experimental feature.\n",
      "  descrizioni = torch.load(desc_path)\n"
     ]
    }
   ],
   "source": [
    "from sales_prediction.preproc_tabular import get_tabular\n",
    "\n",
    "data, _ , _, target = get_tabular('C:\\\\Users\\\\GRVRLD00P\\\\Documents\\\\Progetto ORS\\\\Dati\\\\front_img_season.csv', 'C:\\\\Users\\\\GRVRLD00P\\\\Documents\\\\Progetto ORS\\\\Dati\\\\descrizioni\\\\descrizioni.pt')\n",
    "data['qty'] = target\n",
    "correlazioni = data.corr()['qty'].sort_values(ascending=False)\n",
    "print(correlazioni)"
   ]
  }
 ],
 "metadata": {
  "kernelspec": {
   "display_name": "Python 3",
   "language": "python",
   "name": "python3"
  },
  "language_info": {
   "codemirror_mode": {
    "name": "ipython",
    "version": 3
   },
   "file_extension": ".py",
   "mimetype": "text/x-python",
   "name": "python",
   "nbconvert_exporter": "python",
   "pygments_lexer": "ipython3",
   "version": "3.12.4"
  }
 },
 "nbformat": 4,
 "nbformat_minor": 2
}
