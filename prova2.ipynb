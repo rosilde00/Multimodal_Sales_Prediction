{
 "cells": [
  {
   "cell_type": "code",
   "execution_count": 2,
   "metadata": {},
   "outputs": [
    {
     "name": "stdout",
     "output_type": "stream",
     "text": [
      "  idProdotto  NumVenduti Colore  Sconto\n",
      "0          A          10      g       5\n",
      "1          E          20      b       1\n"
     ]
    }
   ],
   "source": [
    "import pandas as pd\n",
    "\n",
    "df = pd.DataFrame({\n",
    "    'idProdotto': ['A', 'B', 'D', 'E'],\n",
    "    'NumVenduti': [10, 15, 20, 20],\n",
    "    'Colore' : ['g', 'v', 'b', 'b']\n",
    "})\n",
    "\n",
    "df2 = pd.DataFrame({\n",
    "    'idProdotto': ['A', 'B', 'C', 'E', 'F'],\n",
    "    'Sconto': [5, 10, 15, 1, 2],\n",
    "    'Colore' : ['g', 'b', 'b', 'b', 'a']\n",
    "})\n",
    "\n",
    "df3 = df.merge(df2, on=['idProdotto', 'Colore'], how='inner')\n",
    "print(df3)"
   ]
  }
 ],
 "metadata": {
  "kernelspec": {
   "display_name": "Python 3",
   "language": "python",
   "name": "python3"
  },
  "language_info": {
   "codemirror_mode": {
    "name": "ipython",
    "version": 3
   },
   "file_extension": ".py",
   "mimetype": "text/x-python",
   "name": "python",
   "nbconvert_exporter": "python",
   "pygments_lexer": "ipython3",
   "version": "3.12.4"
  }
 },
 "nbformat": 4,
 "nbformat_minor": 2
}
