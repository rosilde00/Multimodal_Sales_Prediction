{
 "cells": [
  {
   "cell_type": "code",
   "execution_count": 7,
   "metadata": {},
   "outputs": [
    {
     "name": "stdout",
     "output_type": "stream",
     "text": [
      "  idProdotto  value1 idProdotto_1  value2\n",
      "0       abc*       1         abcd      10\n",
      "1       abc*       1         abce      20\n",
      "2       def*       2         defg      30\n",
      "3       ghi*       3         ghij      40\n"
     ]
    }
   ],
   "source": [
    "import pandas as pd\n",
    "import re\n",
    "import duckdb\n",
    "import duckdb\n",
    "import pandas as pd\n",
    "\n",
    "aggregated_path = 'C:\\\\ORS\\\\Data\\\\aggregated_sales_final.xlsx'\n",
    "data_path = 'C:\\\\ORS\\\\Data\\\\sales_anagrafica.xlsx'\n",
    "dest_path = 'C:\\\\ORS\\\\Data\\\\sales_anagrafica_final.xlsx'\n",
    "\n",
    "data = pd.read_excel(data_path)\n",
    "aggregated = pd.read_excel(aggregated_path)\n",
    "aggregated = aggregated['prodcode']\n",
    "\n",
    "res = duckdb.query(\"SELECT * FROM df1 JOIN df2 ON df2.idProdotto LIKE REPLACE(df1.idProdotto, '*', '%')\").df()\n",
    "print(res)\n",
    "\n",
    "#data.to_excel(dest_path, index=False)\n"
   ]
  }
 ],
 "metadata": {
  "kernelspec": {
   "display_name": "Python 3",
   "language": "python",
   "name": "python3"
  },
  "language_info": {
   "codemirror_mode": {
    "name": "ipython",
    "version": 3
   },
   "file_extension": ".py",
   "mimetype": "text/x-python",
   "name": "python",
   "nbconvert_exporter": "python",
   "pygments_lexer": "ipython3",
   "version": "3.12.4"
  }
 },
 "nbformat": 4,
 "nbformat_minor": 2
}
