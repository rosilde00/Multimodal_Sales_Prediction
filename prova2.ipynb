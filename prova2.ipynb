{
 "cells": [
  {
   "cell_type": "code",
   "execution_count": 9,
   "metadata": {},
   "outputs": [
    {
     "name": "stdout",
     "output_type": "stream",
     "text": [
      "Sto usando cuda\n"
     ]
    }
   ],
   "source": [
    "import sales_prediction.sales_prediction as sp\n",
    "import torch\n",
    "import os\n",
    "\n",
    "device = (\n",
    "    \"cuda\"\n",
    "    if torch.cuda.is_available()\n",
    "    else \"mps\"\n",
    "    if torch.backends.mps.is_available()\n",
    "    else \"cpu\"\n",
    ")\n",
    "print(f\"Sto usando {device}\")\n",
    "modello = sp.create_model(0).to(device)\n",
    "\n",
    "os.makedirs('C:\\\\Users\\\\GRVRLD00P\\\\Documents\\\\Progetto ORS\\\\Progetto ORS\\\\ProgettoORS\\\\results\\\\prova')\n",
    "model_sc = torch.jit.script(modello)\n",
    "model_sc.save('C:\\\\Users\\\\GRVRLD00P\\\\Documents\\\\Progetto ORS\\\\Progetto ORS\\\\ProgettoORS\\\\results\\\\prova\\\\weights.pt')\n",
    "\n",
    "\n",
    "\n"
   ]
  }
 ],
 "metadata": {
  "kernelspec": {
   "display_name": "Python 3",
   "language": "python",
   "name": "python3"
  },
  "language_info": {
   "codemirror_mode": {
    "name": "ipython",
    "version": 3
   },
   "file_extension": ".py",
   "mimetype": "text/x-python",
   "name": "python",
   "nbconvert_exporter": "python",
   "pygments_lexer": "ipython3",
   "version": "3.12.4"
  }
 },
 "nbformat": 4,
 "nbformat_minor": 2
}
